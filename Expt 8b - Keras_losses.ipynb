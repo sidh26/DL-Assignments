{
  "nbformat": 4,
  "nbformat_minor": 0,
  "metadata": {
    "colab": {
      "name": "Keras-losses.ipynb",
      "provenance": [],
      "collapsed_sections": [],
      "include_colab_link": true
    },
    "kernelspec": {
      "name": "python3",
      "display_name": "Python 3"
    },
    "accelerator": "GPU"
  },
  "cells": [
    {
      "cell_type": "markdown",
      "metadata": {
        "id": "view-in-github",
        "colab_type": "text"
      },
      "source": [
        "<a href=\"https://colab.research.google.com/github/sidh26/DL-Assignments/blob/master/Expt%208b%20-%20Keras_losses.ipynb\" target=\"_parent\"><img src=\"https://colab.research.google.com/assets/colab-badge.svg\" alt=\"Open In Colab\"/></a>"
      ]
    },
    {
      "cell_type": "markdown",
      "metadata": {
        "id": "DZX8anbsht7g",
        "colab_type": "text"
      },
      "source": [
        "#Usage of loss functions\n",
        "\n",
        "A loss function (or objective function, or optimization score function) is one of the two parameters required to compile a model:\n",
        "\n",
        "```\n",
        "model.compile(loss='mean_squared_error', optimizer='sgd')\n",
        "\n",
        "from keras import losses\n",
        "model.compile(loss=losses.mean_squared_error, optimizer='sgd')\n",
        "```\n",
        "\n",
        "You can either pass the name of an existing loss function, or pass a TensorFlow/Theano symbolic function that returns a scalar for each data-point and takes the following two arguments:\n",
        "\n",
        "1. y_true: True labels. TensorFlow/Theano tensor.\n",
        "2. y_pred: Predictions. TensorFlow/Theano tensor of the same shape as y_true.\n",
        "\n",
        "The actual optimized objective is the mean of the output array across all datapoints."
      ]
    },
    {
      "cell_type": "code",
      "metadata": {
        "id": "DJkG-1OvheZp",
        "colab_type": "code",
        "colab": {}
      },
      "source": [
        "import keras\n",
        "from keras import models\n",
        "from keras.layers import Dense, Dropout\n",
        "from keras.utils import to_categorical\n",
        "from keras.datasets import mnist\n",
        "from keras.utils.vis_utils import model_to_dot\n",
        "from IPython.display import SVG\n",
        "\n",
        "NUM_ROWS = 28\n",
        "NUM_COLS = 28\n",
        "NUM_CLASSES = 10\n",
        "BATCH_SIZE = 128\n",
        "EPOCHS = 10\n",
        "\n",
        "# Load data\n",
        "(X_train, y_train), (X_test, y_test) = mnist.load_data()\n",
        "\n",
        "# Reshape data\n",
        "X_train = X_train.reshape((X_train.shape[0], NUM_ROWS * NUM_COLS))\n",
        "X_train = X_train.astype('float32') / 255\n",
        "X_test = X_test.reshape((X_test.shape[0], NUM_ROWS * NUM_COLS))\n",
        "X_test = X_test.astype('float32') / 255\n",
        "\n",
        "# Categorically encode labels\n",
        "y_train = to_categorical(y_train, NUM_CLASSES)\n",
        "y_test = to_categorical(y_test, NUM_CLASSES)\n",
        "\n",
        "\n",
        "# Build neural network\n",
        "model = models.Sequential()\n",
        "model.add(Dense(512, activation='elu', input_shape=(NUM_ROWS * NUM_COLS,)))\n",
        "model.add(Dense(256, activation='elu'))\n",
        "model.add(Dense(10, activation='softmax'))\n",
        "\n"
      ],
      "execution_count": 0,
      "outputs": []
    },
    {
      "cell_type": "markdown",
      "metadata": {
        "id": "N52J4-gdiJSF",
        "colab_type": "text"
      },
      "source": [
        "#mean_squared_error\n",
        "\n",
        "keras.losses.mean_squared_error(y_true, y_pred)"
      ]
    },
    {
      "cell_type": "code",
      "metadata": {
        "id": "rX0QPq4UiMSl",
        "colab_type": "code",
        "colab": {
          "base_uri": "https://localhost:8080/",
          "height": 403
        },
        "outputId": "13779f4a-3a1e-4ff9-92a5-8edafb04994b"
      },
      "source": [
        "# Compile model using accuracy\n",
        "model.compile(optimizer='rmsprop',\n",
        "              loss='mean_squared_error',\n",
        "              metrics=['accuracy'])\n",
        "\n",
        "# Train model\n",
        "model.fit(X_train, y_train,\n",
        "          batch_size=BATCH_SIZE,\n",
        "          epochs=EPOCHS,\n",
        "          verbose=1,\n",
        "          validation_data=(X_test, y_test))\n",
        "\n",
        "score = model.evaluate(X_test, y_test, verbose=0)\n",
        "print('Test loss:', score[0])\n",
        "print('Test accuracy:', score[1])"
      ],
      "execution_count": 16,
      "outputs": [
        {
          "output_type": "stream",
          "text": [
            "Train on 60000 samples, validate on 10000 samples\n",
            "Epoch 1/10\n",
            "60000/60000 [==============================] - 2s 37us/step - loss: 0.0163 - acc: 0.8902 - val_loss: 0.0088 - val_acc: 0.9434\n",
            "Epoch 2/10\n",
            "60000/60000 [==============================] - 2s 28us/step - loss: 0.0074 - acc: 0.9519 - val_loss: 0.0058 - val_acc: 0.9622\n",
            "Epoch 3/10\n",
            "60000/60000 [==============================] - 2s 30us/step - loss: 0.0054 - acc: 0.9657 - val_loss: 0.0047 - val_acc: 0.9704\n",
            "Epoch 4/10\n",
            "60000/60000 [==============================] - 2s 30us/step - loss: 0.0042 - acc: 0.9732 - val_loss: 0.0040 - val_acc: 0.9741\n",
            "Epoch 5/10\n",
            "60000/60000 [==============================] - 2s 28us/step - loss: 0.0035 - acc: 0.9779 - val_loss: 0.0050 - val_acc: 0.9678\n",
            "Epoch 6/10\n",
            "60000/60000 [==============================] - 2s 29us/step - loss: 0.0031 - acc: 0.9806 - val_loss: 0.0039 - val_acc: 0.9750\n",
            "Epoch 7/10\n",
            "60000/60000 [==============================] - 2s 30us/step - loss: 0.0028 - acc: 0.9826 - val_loss: 0.0041 - val_acc: 0.9740\n",
            "Epoch 8/10\n",
            "60000/60000 [==============================] - 2s 27us/step - loss: 0.0025 - acc: 0.9845 - val_loss: 0.0041 - val_acc: 0.9744\n",
            "Epoch 9/10\n",
            "60000/60000 [==============================] - 2s 28us/step - loss: 0.0022 - acc: 0.9862 - val_loss: 0.0043 - val_acc: 0.9737\n",
            "Epoch 10/10\n",
            "60000/60000 [==============================] - 2s 28us/step - loss: 0.0021 - acc: 0.9875 - val_loss: 0.0034 - val_acc: 0.9795\n",
            "Test loss: 0.0033922279477212884\n",
            "Test accuracy: 0.9795\n"
          ],
          "name": "stdout"
        }
      ]
    },
    {
      "cell_type": "markdown",
      "metadata": {
        "id": "xEnK0HIRih01",
        "colab_type": "text"
      },
      "source": [
        "#mean_absolute_error\n",
        "\n",
        "keras.losses.mean_absolute_error(y_true, y_pred)"
      ]
    },
    {
      "cell_type": "code",
      "metadata": {
        "id": "aJiGk6rmikKW",
        "colab_type": "code",
        "colab": {
          "base_uri": "https://localhost:8080/",
          "height": 403
        },
        "outputId": "19523b41-e9dc-4ded-a193-5b59d5ec8829"
      },
      "source": [
        "# Compile model using accuracy\n",
        "model.compile(optimizer='rmsprop',\n",
        "              loss='mean_absolute_error',\n",
        "              metrics=['accuracy'])\n",
        "\n",
        "# Train model\n",
        "model.fit(X_train, y_train,\n",
        "          batch_size=BATCH_SIZE,\n",
        "          epochs=EPOCHS,\n",
        "          verbose=1,\n",
        "          validation_data=(X_test, y_test))\n",
        "\n",
        "score = model.evaluate(X_test, y_test, verbose=0)\n",
        "print('Test loss:', score[0])\n",
        "print('Test accuracy:', score[1])"
      ],
      "execution_count": 17,
      "outputs": [
        {
          "output_type": "stream",
          "text": [
            "Train on 60000 samples, validate on 10000 samples\n",
            "Epoch 1/10\n",
            "60000/60000 [==============================] - 2s 38us/step - loss: 0.0025 - acc: 0.9891 - val_loss: 0.0043 - val_acc: 0.9791\n",
            "Epoch 2/10\n",
            "60000/60000 [==============================] - 2s 31us/step - loss: 0.0022 - acc: 0.9903 - val_loss: 0.0046 - val_acc: 0.9786\n",
            "Epoch 3/10\n",
            "60000/60000 [==============================] - 2s 28us/step - loss: 0.0021 - acc: 0.9903 - val_loss: 0.0042 - val_acc: 0.9797\n",
            "Epoch 4/10\n",
            "60000/60000 [==============================] - 2s 29us/step - loss: 0.0018 - acc: 0.9919 - val_loss: 0.0040 - val_acc: 0.9800\n",
            "Epoch 5/10\n",
            "60000/60000 [==============================] - 2s 29us/step - loss: 0.0017 - acc: 0.9919 - val_loss: 0.0047 - val_acc: 0.9771\n",
            "Epoch 6/10\n",
            "60000/60000 [==============================] - 2s 29us/step - loss: 0.0016 - acc: 0.9924 - val_loss: 0.0042 - val_acc: 0.9798\n",
            "Epoch 7/10\n",
            "60000/60000 [==============================] - 2s 29us/step - loss: 0.0016 - acc: 0.9925 - val_loss: 0.0039 - val_acc: 0.9809\n",
            "Epoch 8/10\n",
            "60000/60000 [==============================] - 2s 28us/step - loss: 0.0014 - acc: 0.9933 - val_loss: 0.0042 - val_acc: 0.9804\n",
            "Epoch 9/10\n",
            "60000/60000 [==============================] - 2s 29us/step - loss: 0.0015 - acc: 0.9931 - val_loss: 0.0040 - val_acc: 0.9809\n",
            "Epoch 10/10\n",
            "60000/60000 [==============================] - 2s 30us/step - loss: 0.0013 - acc: 0.9938 - val_loss: 0.0040 - val_acc: 0.9805\n",
            "Test loss: 0.003998059282962766\n",
            "Test accuracy: 0.9805\n"
          ],
          "name": "stdout"
        }
      ]
    },
    {
      "cell_type": "markdown",
      "metadata": {
        "id": "4zCL32z2iohf",
        "colab_type": "text"
      },
      "source": [
        "#mean_absolute_percentage_error\n",
        "\n",
        "keras.losses.mean_absolute_percentage_error(y_true, y_pred)"
      ]
    },
    {
      "cell_type": "code",
      "metadata": {
        "id": "LbVaaKZ8iruw",
        "colab_type": "code",
        "colab": {
          "base_uri": "https://localhost:8080/",
          "height": 403
        },
        "outputId": "bedbc944-a81e-4a6a-88b7-a6631710947e"
      },
      "source": [
        "# Compile model using accuracy\n",
        "model.compile(optimizer='rmsprop',\n",
        "              loss='mean_absolute_percentage_error',\n",
        "              metrics=['accuracy'])\n",
        "\n",
        "# Train model\n",
        "model.fit(X_train, y_train,\n",
        "          batch_size=BATCH_SIZE,\n",
        "          epochs=EPOCHS,\n",
        "          verbose=1,\n",
        "          validation_data=(X_test, y_test))\n",
        "\n",
        "score = model.evaluate(X_test, y_test, verbose=0)\n",
        "print('Test loss:', score[0])\n",
        "print('Test accuracy:', score[1])"
      ],
      "execution_count": 18,
      "outputs": [
        {
          "output_type": "stream",
          "text": [
            "Train on 60000 samples, validate on 10000 samples\n",
            "Epoch 1/10\n",
            "60000/60000 [==============================] - 3s 42us/step - loss: 647726.1901 - acc: 0.9938 - val_loss: 1952579.7606 - val_acc: 0.9806\n",
            "Epoch 2/10\n",
            "60000/60000 [==============================] - 2s 29us/step - loss: 620184.6792 - acc: 0.9940 - val_loss: 2143199.3260 - val_acc: 0.9783\n",
            "Epoch 3/10\n",
            "60000/60000 [==============================] - 2s 30us/step - loss: 615442.9097 - acc: 0.9940 - val_loss: 2102104.9016 - val_acc: 0.9794\n",
            "Epoch 4/10\n",
            "60000/60000 [==============================] - 2s 30us/step - loss: 574110.5222 - acc: 0.9945 - val_loss: 1902602.3347 - val_acc: 0.9814\n",
            "Epoch 5/10\n",
            "60000/60000 [==============================] - 2s 28us/step - loss: 539812.1266 - acc: 0.9949 - val_loss: 1741118.8212 - val_acc: 0.9830\n",
            "Epoch 6/10\n",
            "60000/60000 [==============================] - 2s 30us/step - loss: 570214.1885 - acc: 0.9944 - val_loss: 1983003.4579 - val_acc: 0.9806\n",
            "Epoch 7/10\n",
            "60000/60000 [==============================] - 2s 30us/step - loss: 530522.9614 - acc: 0.9948 - val_loss: 1977555.7513 - val_acc: 0.9801\n",
            "Epoch 8/10\n",
            "60000/60000 [==============================] - 2s 29us/step - loss: 519223.9377 - acc: 0.9950 - val_loss: 1920048.8128 - val_acc: 0.9816\n",
            "Epoch 9/10\n",
            "60000/60000 [==============================] - 2s 32us/step - loss: 456960.0131 - acc: 0.9956 - val_loss: 1985964.2793 - val_acc: 0.9802\n",
            "Epoch 10/10\n",
            "60000/60000 [==============================] - 2s 31us/step - loss: 480836.7081 - acc: 0.9954 - val_loss: 2089674.8821 - val_acc: 0.9789\n",
            "Test loss: 2089674.8760221356\n",
            "Test accuracy: 0.9789\n"
          ],
          "name": "stdout"
        }
      ]
    },
    {
      "cell_type": "markdown",
      "metadata": {
        "id": "wDT2uAtfiuXH",
        "colab_type": "text"
      },
      "source": [
        "#mean_squared_logarithmic_error\n",
        "\n",
        "keras.losses.mean_squared_logarithmic_error(y_true, y_pred)"
      ]
    },
    {
      "cell_type": "code",
      "metadata": {
        "id": "Tbm0lJwNixJm",
        "colab_type": "code",
        "colab": {
          "base_uri": "https://localhost:8080/",
          "height": 403
        },
        "outputId": "53532969-d71e-4934-92d9-07c4d27a36cd"
      },
      "source": [
        "# Compile model using accuracy\n",
        "model.compile(optimizer='rmsprop',\n",
        "              loss='mean_squared_logarithmic_error',\n",
        "              metrics=['accuracy'])\n",
        "\n",
        "# Train model\n",
        "model.fit(X_train, y_train,\n",
        "          batch_size=BATCH_SIZE,\n",
        "          epochs=EPOCHS,\n",
        "          verbose=1,\n",
        "          validation_data=(X_test, y_test))\n",
        "\n",
        "score = model.evaluate(X_test, y_test, verbose=0)\n",
        "print('Test loss:', score[0])\n",
        "print('Test accuracy:', score[1])"
      ],
      "execution_count": 19,
      "outputs": [
        {
          "output_type": "stream",
          "text": [
            "Train on 60000 samples, validate on 10000 samples\n",
            "Epoch 1/10\n",
            "60000/60000 [==============================] - 3s 42us/step - loss: 4.2856e-04 - acc: 0.9952 - val_loss: 0.0020 - val_acc: 0.9774\n",
            "Epoch 2/10\n",
            "60000/60000 [==============================] - 2s 32us/step - loss: 4.2651e-04 - acc: 0.9951 - val_loss: 0.0017 - val_acc: 0.9808\n",
            "Epoch 3/10\n",
            "60000/60000 [==============================] - 2s 30us/step - loss: 4.0495e-04 - acc: 0.9954 - val_loss: 0.0020 - val_acc: 0.9779\n",
            "Epoch 4/10\n",
            "60000/60000 [==============================] - 2s 31us/step - loss: 4.1767e-04 - acc: 0.9953 - val_loss: 0.0019 - val_acc: 0.9788\n",
            "Epoch 5/10\n",
            "60000/60000 [==============================] - 2s 32us/step - loss: 4.1641e-04 - acc: 0.9953 - val_loss: 0.0017 - val_acc: 0.9801\n",
            "Epoch 6/10\n",
            "60000/60000 [==============================] - 2s 32us/step - loss: 4.0448e-04 - acc: 0.9954 - val_loss: 0.0017 - val_acc: 0.9813\n",
            "Epoch 7/10\n",
            "60000/60000 [==============================] - 2s 30us/step - loss: 3.8813e-04 - acc: 0.9957 - val_loss: 0.0017 - val_acc: 0.9809\n",
            "Epoch 8/10\n",
            "60000/60000 [==============================] - 2s 33us/step - loss: 3.9049e-04 - acc: 0.9956 - val_loss: 0.0017 - val_acc: 0.9811\n",
            "Epoch 9/10\n",
            "60000/60000 [==============================] - 2s 29us/step - loss: 4.1847e-04 - acc: 0.9953 - val_loss: 0.0017 - val_acc: 0.9807\n",
            "Epoch 10/10\n",
            "60000/60000 [==============================] - 2s 30us/step - loss: 3.6493e-04 - acc: 0.9960 - val_loss: 0.0017 - val_acc: 0.9814\n",
            "Test loss: 0.0016923162288502067\n",
            "Test accuracy: 0.9814\n"
          ],
          "name": "stdout"
        }
      ]
    },
    {
      "cell_type": "markdown",
      "metadata": {
        "id": "jLY0Km_mi0PA",
        "colab_type": "text"
      },
      "source": [
        "#squared_hinge\n",
        "\n",
        "keras.losses.squared_hinge(y_true, y_pred)"
      ]
    },
    {
      "cell_type": "code",
      "metadata": {
        "id": "hXoHk504i2e7",
        "colab_type": "code",
        "colab": {
          "base_uri": "https://localhost:8080/",
          "height": 403
        },
        "outputId": "1216d762-efe4-42d4-ffa2-a35cfa017b30"
      },
      "source": [
        "# Compile model using accuracy\n",
        "model.compile(optimizer='rmsprop',\n",
        "              loss='squared_hinge',\n",
        "              metrics=['accuracy'])\n",
        "\n",
        "# Train model\n",
        "model.fit(X_train, y_train,\n",
        "          batch_size=BATCH_SIZE,\n",
        "          epochs=EPOCHS,\n",
        "          verbose=1,\n",
        "          validation_data=(X_test, y_test))\n",
        "\n",
        "score = model.evaluate(X_test, y_test, verbose=0)\n",
        "print('Test loss:', score[0])\n",
        "print('Test accuracy:', score[1])"
      ],
      "execution_count": 20,
      "outputs": [
        {
          "output_type": "stream",
          "text": [
            "Train on 60000 samples, validate on 10000 samples\n",
            "Epoch 1/10\n",
            "60000/60000 [==============================] - 2s 39us/step - loss: 0.9004 - acc: 0.9956 - val_loss: 0.9021 - val_acc: 0.9781\n",
            "Epoch 2/10\n",
            "60000/60000 [==============================] - 2s 29us/step - loss: 0.9004 - acc: 0.9959 - val_loss: 0.9017 - val_acc: 0.9817\n",
            "Epoch 3/10\n",
            "60000/60000 [==============================] - 2s 32us/step - loss: 0.9004 - acc: 0.9958 - val_loss: 0.9018 - val_acc: 0.9805\n",
            "Epoch 4/10\n",
            "60000/60000 [==============================] - 2s 29us/step - loss: 0.9003 - acc: 0.9963 - val_loss: 0.9018 - val_acc: 0.9812\n",
            "Epoch 5/10\n",
            "60000/60000 [==============================] - 2s 30us/step - loss: 0.9004 - acc: 0.9963 - val_loss: 0.9016 - val_acc: 0.9828\n",
            "Epoch 6/10\n",
            "60000/60000 [==============================] - 2s 32us/step - loss: 0.9004 - acc: 0.9962 - val_loss: 0.9018 - val_acc: 0.9807\n",
            "Epoch 7/10\n",
            "60000/60000 [==============================] - 2s 30us/step - loss: 0.9004 - acc: 0.9960 - val_loss: 0.9018 - val_acc: 0.9813\n",
            "Epoch 8/10\n",
            "60000/60000 [==============================] - 2s 30us/step - loss: 0.9004 - acc: 0.9956 - val_loss: 0.9019 - val_acc: 0.9796\n",
            "Epoch 9/10\n",
            "60000/60000 [==============================] - 2s 31us/step - loss: 0.9003 - acc: 0.9962 - val_loss: 0.9018 - val_acc: 0.9813\n",
            "Epoch 10/10\n",
            "60000/60000 [==============================] - 2s 29us/step - loss: 0.9003 - acc: 0.9965 - val_loss: 0.9018 - val_acc: 0.9810\n",
            "Test loss: 0.9018186859130859\n",
            "Test accuracy: 0.981\n"
          ],
          "name": "stdout"
        }
      ]
    },
    {
      "cell_type": "markdown",
      "metadata": {
        "id": "7hc5-jeei5PL",
        "colab_type": "text"
      },
      "source": [
        "#hinge\n",
        "\n",
        "keras.losses.hinge(y_true, y_pred)"
      ]
    },
    {
      "cell_type": "code",
      "metadata": {
        "id": "hkbwuZ5li7oL",
        "colab_type": "code",
        "colab": {
          "base_uri": "https://localhost:8080/",
          "height": 403
        },
        "outputId": "00f3d5f1-0998-40b0-b64a-4162f193c0d1"
      },
      "source": [
        "# Compile model using accuracy\n",
        "model.compile(optimizer='rmsprop',\n",
        "              loss='hinge',\n",
        "              metrics=['accuracy'])\n",
        "\n",
        "# Train model\n",
        "model.fit(X_train, y_train,\n",
        "          batch_size=BATCH_SIZE,\n",
        "          epochs=EPOCHS,\n",
        "          verbose=1,\n",
        "          validation_data=(X_test, y_test))\n",
        "\n",
        "score = model.evaluate(X_test, y_test, verbose=0)\n",
        "print('Test loss:', score[0])\n",
        "print('Test accuracy:', score[1])"
      ],
      "execution_count": 21,
      "outputs": [
        {
          "output_type": "stream",
          "text": [
            "Train on 60000 samples, validate on 10000 samples\n",
            "Epoch 1/10\n",
            "60000/60000 [==============================] - 2s 42us/step - loss: 0.9003 - acc: 0.9967 - val_loss: 0.9019 - val_acc: 0.9812\n",
            "Epoch 2/10\n",
            "60000/60000 [==============================] - 2s 29us/step - loss: 0.9003 - acc: 0.9968 - val_loss: 0.9018 - val_acc: 0.9821\n",
            "Epoch 3/10\n",
            "60000/60000 [==============================] - 2s 30us/step - loss: 0.9003 - acc: 0.9968 - val_loss: 0.9020 - val_acc: 0.9805\n",
            "Epoch 4/10\n",
            "60000/60000 [==============================] - 2s 29us/step - loss: 0.9003 - acc: 0.9971 - val_loss: 0.9020 - val_acc: 0.9799\n",
            "Epoch 5/10\n",
            "60000/60000 [==============================] - 2s 29us/step - loss: 0.9003 - acc: 0.9970 - val_loss: 0.9020 - val_acc: 0.9797\n",
            "Epoch 6/10\n",
            "60000/60000 [==============================] - 2s 29us/step - loss: 0.9003 - acc: 0.9970 - val_loss: 0.9020 - val_acc: 0.9807\n",
            "Epoch 7/10\n",
            "60000/60000 [==============================] - 2s 28us/step - loss: 0.9003 - acc: 0.9969 - val_loss: 0.9019 - val_acc: 0.9811\n",
            "Epoch 8/10\n",
            "60000/60000 [==============================] - 2s 27us/step - loss: 0.9003 - acc: 0.9970 - val_loss: 0.9019 - val_acc: 0.9813\n",
            "Epoch 9/10\n",
            "60000/60000 [==============================] - 2s 29us/step - loss: 0.9003 - acc: 0.9971 - val_loss: 0.9019 - val_acc: 0.9805\n",
            "Epoch 10/10\n",
            "60000/60000 [==============================] - 2s 31us/step - loss: 0.9003 - acc: 0.9973 - val_loss: 0.9019 - val_acc: 0.9813\n",
            "Test loss: 0.901863299369812\n",
            "Test accuracy: 0.9813\n"
          ],
          "name": "stdout"
        }
      ]
    },
    {
      "cell_type": "markdown",
      "metadata": {
        "id": "LRoSjzqNjCwi",
        "colab_type": "text"
      },
      "source": [
        "#categorical_hinge\n",
        "\n",
        "keras.losses.categorical_hinge(y_true, y_pred)"
      ]
    },
    {
      "cell_type": "code",
      "metadata": {
        "id": "UOrswDfMjF__",
        "colab_type": "code",
        "colab": {
          "base_uri": "https://localhost:8080/",
          "height": 403
        },
        "outputId": "b6604413-325f-4a16-aa54-89aa3b0f89f1"
      },
      "source": [
        "# Compile model using accuracy\n",
        "model.compile(optimizer='rmsprop',\n",
        "              loss='categorical_hinge',\n",
        "              metrics=['accuracy'])\n",
        "\n",
        "# Train model\n",
        "model.fit(X_train, y_train,\n",
        "          batch_size=BATCH_SIZE,\n",
        "          epochs=EPOCHS,\n",
        "          verbose=1,\n",
        "          validation_data=(X_test, y_test))\n",
        "\n",
        "score = model.evaluate(X_test, y_test, verbose=0)\n",
        "print('Test loss:', score[0])\n",
        "print('Test accuracy:', score[1])"
      ],
      "execution_count": 22,
      "outputs": [
        {
          "output_type": "stream",
          "text": [
            "Train on 60000 samples, validate on 10000 samples\n",
            "Epoch 1/10\n",
            "60000/60000 [==============================] - 3s 44us/step - loss: 0.0059 - acc: 0.9971 - val_loss: 0.0337 - val_acc: 0.9832\n",
            "Epoch 2/10\n",
            "60000/60000 [==============================] - 2s 30us/step - loss: 0.0062 - acc: 0.9970 - val_loss: 0.0351 - val_acc: 0.9825\n",
            "Epoch 3/10\n",
            "60000/60000 [==============================] - 2s 29us/step - loss: 0.0061 - acc: 0.9970 - val_loss: 0.0335 - val_acc: 0.9834\n",
            "Epoch 4/10\n",
            "60000/60000 [==============================] - 2s 30us/step - loss: 0.0052 - acc: 0.9974 - val_loss: 0.0352 - val_acc: 0.9824\n",
            "Epoch 5/10\n",
            "60000/60000 [==============================] - 2s 29us/step - loss: 0.0061 - acc: 0.9971 - val_loss: 0.0408 - val_acc: 0.9798\n",
            "Epoch 6/10\n",
            "60000/60000 [==============================] - 2s 32us/step - loss: 0.0058 - acc: 0.9972 - val_loss: 0.0367 - val_acc: 0.9817\n",
            "Epoch 7/10\n",
            "60000/60000 [==============================] - 2s 33us/step - loss: 0.0057 - acc: 0.9972 - val_loss: 0.0368 - val_acc: 0.9815\n",
            "Epoch 8/10\n",
            "60000/60000 [==============================] - 2s 30us/step - loss: 0.0058 - acc: 0.9971 - val_loss: 0.0322 - val_acc: 0.9838\n",
            "Epoch 9/10\n",
            "60000/60000 [==============================] - 2s 31us/step - loss: 0.0056 - acc: 0.9972 - val_loss: 0.0354 - val_acc: 0.9825\n",
            "Epoch 10/10\n",
            "60000/60000 [==============================] - 2s 30us/step - loss: 0.0056 - acc: 0.9972 - val_loss: 0.0374 - val_acc: 0.9811\n",
            "Test loss: 0.03743850897156691\n",
            "Test accuracy: 0.9811\n"
          ],
          "name": "stdout"
        }
      ]
    },
    {
      "cell_type": "markdown",
      "metadata": {
        "id": "VF0cEwoxjIXn",
        "colab_type": "text"
      },
      "source": [
        "#logcosh\n",
        "\n",
        "keras.losses.logcosh(y_true, y_pred)\n",
        "\n",
        "Logarithm of the hyperbolic cosine of the prediction error.\n",
        "\n",
        "log(cosh(x)) is approximately equal to (x ** 2) / 2 for small x and to abs(x) - log(2) for large x. This means that 'logcosh' works mostly like the mean squared error, but will not be so strongly affected by the occasional wildly incorrect prediction.\n",
        "\n",
        "##Arguments\n",
        "\n",
        "1. y_true: tensor of true targets.\n",
        "2. y_pred: tensor of predicted targets.\n",
        "\n",
        "##Returns\n",
        "\n",
        "1. Tensor with one scalar loss entry per sample."
      ]
    },
    {
      "cell_type": "code",
      "metadata": {
        "id": "V4A7M01bjLap",
        "colab_type": "code",
        "colab": {
          "base_uri": "https://localhost:8080/",
          "height": 403
        },
        "outputId": "b1c460eb-8aa7-42d8-e131-48b33280421d"
      },
      "source": [
        "# Compile model using accuracy\n",
        "model.compile(optimizer='rmsprop',\n",
        "              loss='logcosh',\n",
        "              metrics=['accuracy'])\n",
        "\n",
        "# Train model\n",
        "model.fit(X_train, y_train,\n",
        "          batch_size=BATCH_SIZE,\n",
        "          epochs=EPOCHS,\n",
        "          verbose=1,\n",
        "          validation_data=(X_test, y_test))\n",
        "\n",
        "score = model.evaluate(X_test, y_test, verbose=0)\n",
        "print('Test loss:', score[0])\n",
        "print('Test accuracy:', score[1])"
      ],
      "execution_count": 23,
      "outputs": [
        {
          "output_type": "stream",
          "text": [
            "Train on 60000 samples, validate on 10000 samples\n",
            "Epoch 1/10\n",
            "60000/60000 [==============================] - 3s 43us/step - loss: 2.3154e-04 - acc: 0.9972 - val_loss: 0.0015 - val_acc: 0.9813\n",
            "Epoch 2/10\n",
            "60000/60000 [==============================] - 2s 30us/step - loss: 2.1755e-04 - acc: 0.9974 - val_loss: 0.0015 - val_acc: 0.9822\n",
            "Epoch 3/10\n",
            "60000/60000 [==============================] - 2s 29us/step - loss: 2.4581e-04 - acc: 0.9970 - val_loss: 0.0016 - val_acc: 0.9801\n",
            "Epoch 4/10\n",
            "60000/60000 [==============================] - 2s 30us/step - loss: 2.4404e-04 - acc: 0.9971 - val_loss: 0.0015 - val_acc: 0.9811\n",
            "Epoch 5/10\n",
            "60000/60000 [==============================] - 2s 29us/step - loss: 2.6053e-04 - acc: 0.9969 - val_loss: 0.0017 - val_acc: 0.9797\n",
            "Epoch 6/10\n",
            "60000/60000 [==============================] - 2s 30us/step - loss: 2.5543e-04 - acc: 0.9969 - val_loss: 0.0014 - val_acc: 0.9827\n",
            "Epoch 7/10\n",
            "60000/60000 [==============================] - 2s 30us/step - loss: 2.3046e-04 - acc: 0.9972 - val_loss: 0.0017 - val_acc: 0.9797\n",
            "Epoch 8/10\n",
            "60000/60000 [==============================] - 2s 30us/step - loss: 2.3558e-04 - acc: 0.9972 - val_loss: 0.0015 - val_acc: 0.9820\n",
            "Epoch 9/10\n",
            "60000/60000 [==============================] - 2s 28us/step - loss: 2.3928e-04 - acc: 0.9971 - val_loss: 0.0017 - val_acc: 0.9787\n",
            "Epoch 10/10\n",
            "60000/60000 [==============================] - 2s 31us/step - loss: 2.3646e-04 - acc: 0.9972 - val_loss: 0.0014 - val_acc: 0.9825\n",
            "Test loss: 0.0014383129227599281\n",
            "Test accuracy: 0.9825\n"
          ],
          "name": "stdout"
        }
      ]
    },
    {
      "cell_type": "markdown",
      "metadata": {
        "id": "KZ0bv-eXjbXu",
        "colab_type": "text"
      },
      "source": [
        "#categorical_crossentropy\n",
        "\n",
        "keras.losses.categorical_crossentropy(y_true, y_pred, from_logits=False, label_smoothing=0)"
      ]
    },
    {
      "cell_type": "code",
      "metadata": {
        "id": "b-XrpX7Ajd_Z",
        "colab_type": "code",
        "colab": {
          "base_uri": "https://localhost:8080/",
          "height": 403
        },
        "outputId": "2f25fb92-7d84-4a82-c497-182b3d308e4b"
      },
      "source": [
        "# Compile model using accuracy\n",
        "model.compile(optimizer='rmsprop',\n",
        "              loss='categorical_crossentropy',\n",
        "              metrics=['accuracy'])\n",
        "\n",
        "# Train model\n",
        "model.fit(X_train, y_train,\n",
        "          batch_size=BATCH_SIZE,\n",
        "          epochs=EPOCHS,\n",
        "          verbose=1,\n",
        "          validation_data=(X_test, y_test))\n",
        "\n",
        "score = model.evaluate(X_test, y_test, verbose=0)\n",
        "print('Test loss:', score[0])\n",
        "print('Test accuracy:', score[1])"
      ],
      "execution_count": 24,
      "outputs": [
        {
          "output_type": "stream",
          "text": [
            "Train on 60000 samples, validate on 10000 samples\n",
            "Epoch 1/10\n",
            "60000/60000 [==============================] - 3s 46us/step - loss: 0.0350 - acc: 0.9973 - val_loss: 0.2137 - val_acc: 0.9804\n",
            "Epoch 2/10\n",
            "60000/60000 [==============================] - 2s 33us/step - loss: 0.0345 - acc: 0.9974 - val_loss: 0.2064 - val_acc: 0.9827\n",
            "Epoch 3/10\n",
            "60000/60000 [==============================] - 2s 30us/step - loss: 0.0337 - acc: 0.9976 - val_loss: 0.2001 - val_acc: 0.9826\n",
            "Epoch 4/10\n",
            "60000/60000 [==============================] - 2s 31us/step - loss: 0.0346 - acc: 0.9974 - val_loss: 0.1976 - val_acc: 0.9821\n",
            "Epoch 5/10\n",
            "60000/60000 [==============================] - 2s 31us/step - loss: 0.0328 - acc: 0.9977 - val_loss: 0.2178 - val_acc: 0.9822\n",
            "Epoch 6/10\n",
            "60000/60000 [==============================] - 2s 32us/step - loss: 0.0335 - acc: 0.9976 - val_loss: 0.2029 - val_acc: 0.9824\n",
            "Epoch 7/10\n",
            "60000/60000 [==============================] - 2s 31us/step - loss: 0.0320 - acc: 0.9976 - val_loss: 0.1948 - val_acc: 0.9826\n",
            "Epoch 8/10\n",
            "60000/60000 [==============================] - 2s 30us/step - loss: 0.0310 - acc: 0.9977 - val_loss: 0.2186 - val_acc: 0.9810\n",
            "Epoch 9/10\n",
            "60000/60000 [==============================] - 2s 29us/step - loss: 0.0313 - acc: 0.9975 - val_loss: 0.2082 - val_acc: 0.9807\n",
            "Epoch 10/10\n",
            "60000/60000 [==============================] - 2s 29us/step - loss: 0.0306 - acc: 0.9977 - val_loss: 0.2262 - val_acc: 0.9806\n",
            "Test loss: 0.22619932516293093\n",
            "Test accuracy: 0.9806\n"
          ],
          "name": "stdout"
        }
      ]
    },
    {
      "cell_type": "markdown",
      "metadata": {
        "id": "j2hMi0U5jk4d",
        "colab_type": "text"
      },
      "source": [
        "#binary_crossentropy\n",
        "\n",
        "keras.losses.binary_crossentropy(y_true, y_pred, from_logits=False, label_smoothing=0)"
      ]
    },
    {
      "cell_type": "code",
      "metadata": {
        "id": "YDLqW8otjnUZ",
        "colab_type": "code",
        "colab": {
          "base_uri": "https://localhost:8080/",
          "height": 403
        },
        "outputId": "37acad4f-2393-4163-8517-df4a24f37469"
      },
      "source": [
        "# Compile model using accuracy\n",
        "model.compile(optimizer='rmsprop',\n",
        "              loss='binary_crossentropy',\n",
        "              metrics=['accuracy'])\n",
        "\n",
        "# Train model\n",
        "model.fit(X_train, y_train,\n",
        "          batch_size=BATCH_SIZE,\n",
        "          epochs=EPOCHS,\n",
        "          verbose=1,\n",
        "          validation_data=(X_test, y_test))\n",
        "\n",
        "score = model.evaluate(X_test, y_test, verbose=0)\n",
        "print('Test loss:', score[0])\n",
        "print('Test accuracy:', score[1])"
      ],
      "execution_count": 25,
      "outputs": [
        {
          "output_type": "stream",
          "text": [
            "Train on 60000 samples, validate on 10000 samples\n",
            "Epoch 1/10\n",
            "60000/60000 [==============================] - 3s 48us/step - loss: 0.0064 - acc: 0.9994 - val_loss: 0.0405 - val_acc: 0.9963\n",
            "Epoch 2/10\n",
            "60000/60000 [==============================] - 2s 32us/step - loss: 0.0066 - acc: 0.9994 - val_loss: 0.0359 - val_acc: 0.9966\n",
            "Epoch 3/10\n",
            "60000/60000 [==============================] - 2s 33us/step - loss: 0.0064 - acc: 0.9994 - val_loss: 0.0429 - val_acc: 0.9959\n",
            "Epoch 4/10\n",
            "60000/60000 [==============================] - 2s 32us/step - loss: 0.0062 - acc: 0.9995 - val_loss: 0.0399 - val_acc: 0.9964\n",
            "Epoch 5/10\n",
            "60000/60000 [==============================] - 2s 31us/step - loss: 0.0063 - acc: 0.9995 - val_loss: 0.0424 - val_acc: 0.9961\n",
            "Epoch 6/10\n",
            "60000/60000 [==============================] - 2s 33us/step - loss: 0.0059 - acc: 0.9995 - val_loss: 0.0391 - val_acc: 0.9964\n",
            "Epoch 7/10\n",
            "60000/60000 [==============================] - 2s 34us/step - loss: 0.0061 - acc: 0.9995 - val_loss: 0.0467 - val_acc: 0.9956\n",
            "Epoch 8/10\n",
            "60000/60000 [==============================] - 2s 33us/step - loss: 0.0058 - acc: 0.9995 - val_loss: 0.0435 - val_acc: 0.9962\n",
            "Epoch 9/10\n",
            "60000/60000 [==============================] - 2s 32us/step - loss: 0.0060 - acc: 0.9995 - val_loss: 0.0411 - val_acc: 0.9962\n",
            "Epoch 10/10\n",
            "60000/60000 [==============================] - 2s 32us/step - loss: 0.0061 - acc: 0.9995 - val_loss: 0.0384 - val_acc: 0.9965\n",
            "Test loss: 0.03837875894305714\n",
            "Test accuracy: 0.9964599946975708\n"
          ],
          "name": "stdout"
        }
      ]
    },
    {
      "cell_type": "markdown",
      "metadata": {
        "id": "stvo_lw6jqcT",
        "colab_type": "text"
      },
      "source": [
        "#kullback_leibler_divergence\n",
        "\n",
        "keras.losses.kullback_leibler_divergence(y_true, y_pred)"
      ]
    },
    {
      "cell_type": "code",
      "metadata": {
        "id": "m6MTeFaHjs4D",
        "colab_type": "code",
        "colab": {
          "base_uri": "https://localhost:8080/",
          "height": 403
        },
        "outputId": "7d41aa93-36f0-4df4-8d7b-7e6cfb11fc81"
      },
      "source": [
        "# Compile model using accuracy\n",
        "model.compile(optimizer='rmsprop',\n",
        "              loss='kullback_leibler_divergence',\n",
        "              metrics=['accuracy'])\n",
        "\n",
        "# Train model\n",
        "model.fit(X_train, y_train,\n",
        "          batch_size=BATCH_SIZE,\n",
        "          epochs=EPOCHS,\n",
        "          verbose=1,\n",
        "          validation_data=(X_test, y_test))\n",
        "\n",
        "score = model.evaluate(X_test, y_test, verbose=0)\n",
        "print('Test loss:', score[0])\n",
        "print('Test accuracy:', score[1])"
      ],
      "execution_count": 26,
      "outputs": [
        {
          "output_type": "stream",
          "text": [
            "Train on 60000 samples, validate on 10000 samples\n",
            "Epoch 1/10\n",
            "60000/60000 [==============================] - 3s 44us/step - loss: 0.0294 - acc: 0.9979 - val_loss: 0.2020 - val_acc: 0.9823\n",
            "Epoch 2/10\n",
            "60000/60000 [==============================] - 2s 28us/step - loss: 0.0292 - acc: 0.9978 - val_loss: 0.2105 - val_acc: 0.9831\n",
            "Epoch 3/10\n",
            "60000/60000 [==============================] - 2s 30us/step - loss: 0.0273 - acc: 0.9981 - val_loss: 0.2069 - val_acc: 0.9827\n",
            "Epoch 4/10\n",
            "60000/60000 [==============================] - 2s 33us/step - loss: 0.0281 - acc: 0.9981 - val_loss: 0.2039 - val_acc: 0.9825\n",
            "Epoch 5/10\n",
            "60000/60000 [==============================] - 2s 30us/step - loss: 0.0278 - acc: 0.9980 - val_loss: 0.2293 - val_acc: 0.9805\n",
            "Epoch 6/10\n",
            "60000/60000 [==============================] - 2s 29us/step - loss: 0.0280 - acc: 0.9978 - val_loss: 0.2024 - val_acc: 0.9834\n",
            "Epoch 7/10\n",
            "60000/60000 [==============================] - 2s 30us/step - loss: 0.0278 - acc: 0.9980 - val_loss: 0.2132 - val_acc: 0.9821\n",
            "Epoch 8/10\n",
            "60000/60000 [==============================] - 2s 29us/step - loss: 0.0270 - acc: 0.9981 - val_loss: 0.1985 - val_acc: 0.9820\n",
            "Epoch 9/10\n",
            "60000/60000 [==============================] - 2s 32us/step - loss: 0.0274 - acc: 0.9979 - val_loss: 0.1845 - val_acc: 0.9831\n",
            "Epoch 10/10\n",
            "60000/60000 [==============================] - 2s 28us/step - loss: 0.0258 - acc: 0.9982 - val_loss: 0.1970 - val_acc: 0.9826\n",
            "Test loss: 0.19696602291932774\n",
            "Test accuracy: 0.9826\n"
          ],
          "name": "stdout"
        }
      ]
    },
    {
      "cell_type": "markdown",
      "metadata": {
        "id": "co28pTxijuyE",
        "colab_type": "text"
      },
      "source": [
        "#poisson\n",
        "\n",
        "keras.losses.poisson(y_true, y_pred)"
      ]
    },
    {
      "cell_type": "code",
      "metadata": {
        "id": "J7uvZNh_jxXd",
        "colab_type": "code",
        "colab": {
          "base_uri": "https://localhost:8080/",
          "height": 403
        },
        "outputId": "9202f073-2b5c-4cd3-b8c2-c819a5c88e2f"
      },
      "source": [
        "# Compile model using accuracy\n",
        "model.compile(optimizer='rmsprop',\n",
        "              loss='poisson',\n",
        "              metrics=['accuracy'])\n",
        "\n",
        "# Train model\n",
        "model.fit(X_train, y_train,\n",
        "          batch_size=BATCH_SIZE,\n",
        "          epochs=EPOCHS,\n",
        "          verbose=1,\n",
        "          validation_data=(X_test, y_test))\n",
        "\n",
        "score = model.evaluate(X_test, y_test, verbose=0)\n",
        "print('Test loss:', score[0])\n",
        "print('Test accuracy:', score[1])"
      ],
      "execution_count": 27,
      "outputs": [
        {
          "output_type": "stream",
          "text": [
            "Train on 60000 samples, validate on 10000 samples\n",
            "Epoch 1/10\n",
            "60000/60000 [==============================] - 3s 46us/step - loss: 0.1027 - acc: 0.9980 - val_loss: 0.1213 - val_acc: 0.9809\n",
            "Epoch 2/10\n",
            "60000/60000 [==============================] - 2s 32us/step - loss: 0.1026 - acc: 0.9981 - val_loss: 0.1198 - val_acc: 0.9827\n",
            "Epoch 3/10\n",
            "60000/60000 [==============================] - 2s 30us/step - loss: 0.1027 - acc: 0.9980 - val_loss: 0.1221 - val_acc: 0.9816\n",
            "Epoch 4/10\n",
            "60000/60000 [==============================] - 2s 29us/step - loss: 0.1027 - acc: 0.9979 - val_loss: 0.1203 - val_acc: 0.9829\n",
            "Epoch 5/10\n",
            "60000/60000 [==============================] - 2s 28us/step - loss: 0.1026 - acc: 0.9981 - val_loss: 0.1201 - val_acc: 0.9838\n",
            "Epoch 6/10\n",
            "60000/60000 [==============================] - 2s 29us/step - loss: 0.1025 - acc: 0.9982 - val_loss: 0.1212 - val_acc: 0.9818\n",
            "Epoch 7/10\n",
            "60000/60000 [==============================] - 2s 29us/step - loss: 0.1026 - acc: 0.9980 - val_loss: 0.1197 - val_acc: 0.9830\n",
            "Epoch 8/10\n",
            "60000/60000 [==============================] - 2s 29us/step - loss: 0.1025 - acc: 0.9983 - val_loss: 0.1244 - val_acc: 0.9797\n",
            "Epoch 9/10\n",
            "60000/60000 [==============================] - 2s 30us/step - loss: 0.1025 - acc: 0.9981 - val_loss: 0.1225 - val_acc: 0.9811\n",
            "Epoch 10/10\n",
            "60000/60000 [==============================] - 2s 27us/step - loss: 0.1025 - acc: 0.9981 - val_loss: 0.1225 - val_acc: 0.9810\n",
            "Test loss: 0.12250841521024704\n",
            "Test accuracy: 0.981\n"
          ],
          "name": "stdout"
        }
      ]
    },
    {
      "cell_type": "markdown",
      "metadata": {
        "id": "fzJ8kS6Mj1iS",
        "colab_type": "text"
      },
      "source": [
        "#cosine_proximity\n",
        "\n",
        "keras.losses.cosine_proximity(y_true, y_pred, axis=-1)"
      ]
    },
    {
      "cell_type": "code",
      "metadata": {
        "id": "sgC8iO8Lj4Ie",
        "colab_type": "code",
        "colab": {
          "base_uri": "https://localhost:8080/",
          "height": 403
        },
        "outputId": "91ac06a4-5e12-4083-ae73-8343c3781fce"
      },
      "source": [
        "# Compile model using accuracy\n",
        "model.compile(optimizer='rmsprop',\n",
        "              loss='cosine_proximity',\n",
        "              metrics=['accuracy'])\n",
        "\n",
        "# Train model\n",
        "model.fit(X_train, y_train,\n",
        "          batch_size=BATCH_SIZE,\n",
        "          epochs=EPOCHS,\n",
        "          verbose=1,\n",
        "          validation_data=(X_test, y_test))\n",
        "\n",
        "score = model.evaluate(X_test, y_test, verbose=0)\n",
        "print('Test loss:', score[0])\n",
        "print('Test accuracy:', score[1])"
      ],
      "execution_count": 28,
      "outputs": [
        {
          "output_type": "stream",
          "text": [
            "Train on 60000 samples, validate on 10000 samples\n",
            "Epoch 1/10\n",
            "60000/60000 [==============================] - 3s 49us/step - loss: -0.9981 - acc: 0.9980 - val_loss: -0.9815 - val_acc: 0.9808\n",
            "Epoch 2/10\n",
            "60000/60000 [==============================] - 2s 33us/step - loss: -0.9980 - acc: 0.9980 - val_loss: -0.9824 - val_acc: 0.9819\n",
            "Epoch 3/10\n",
            "60000/60000 [==============================] - 2s 32us/step - loss: -0.9982 - acc: 0.9981 - val_loss: -0.9809 - val_acc: 0.9804\n",
            "Epoch 4/10\n",
            "60000/60000 [==============================] - 2s 31us/step - loss: -0.9982 - acc: 0.9981 - val_loss: -0.9815 - val_acc: 0.9811\n",
            "Epoch 5/10\n",
            "60000/60000 [==============================] - 2s 31us/step - loss: -0.9982 - acc: 0.9981 - val_loss: -0.9820 - val_acc: 0.9814\n",
            "Epoch 6/10\n",
            "60000/60000 [==============================] - 2s 32us/step - loss: -0.9980 - acc: 0.9979 - val_loss: -0.9824 - val_acc: 0.9820\n",
            "Epoch 7/10\n",
            "60000/60000 [==============================] - 2s 33us/step - loss: -0.9983 - acc: 0.9983 - val_loss: -0.9827 - val_acc: 0.9822\n",
            "Epoch 8/10\n",
            "60000/60000 [==============================] - 2s 32us/step - loss: -0.9979 - acc: 0.9979 - val_loss: -0.9805 - val_acc: 0.9800\n",
            "Epoch 9/10\n",
            "60000/60000 [==============================] - 2s 31us/step - loss: -0.9981 - acc: 0.9980 - val_loss: -0.9827 - val_acc: 0.9820\n",
            "Epoch 10/10\n",
            "60000/60000 [==============================] - 2s 32us/step - loss: -0.9981 - acc: 0.9981 - val_loss: -0.9821 - val_acc: 0.9816\n",
            "Test loss: -0.9821362680435181\n",
            "Test accuracy: 0.9816\n"
          ],
          "name": "stdout"
        }
      ]
    },
    {
      "cell_type": "markdown",
      "metadata": {
        "id": "G0X2fr_n5nWG",
        "colab_type": "text"
      },
      "source": [
        "#Thank you for completing this notebook"
      ]
    }
  ]
}