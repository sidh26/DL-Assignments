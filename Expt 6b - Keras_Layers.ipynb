{
  "nbformat": 4,
  "nbformat_minor": 0,
  "metadata": {
    "colab": {
      "name": "Keras Layers - Expt 5.ipynb",
      "provenance": [],
      "collapsed_sections": [],
      "toc_visible": true,
      "include_colab_link": true
    },
    "kernelspec": {
      "name": "python3",
      "display_name": "Python 3"
    }
  },
  "cells": [
    {
      "cell_type": "markdown",
      "metadata": {
        "id": "view-in-github",
        "colab_type": "text"
      },
      "source": [
        "<a href=\"https://colab.research.google.com/github/sidh26/DL-Assignments/blob/master/Expt%206b%20-%20Keras_Layers.ipynb\" target=\"_parent\"><img src=\"https://colab.research.google.com/assets/colab-badge.svg\" alt=\"Open In Colab\"/></a>"
      ]
    },
    {
      "cell_type": "markdown",
      "metadata": {
        "id": "-qGLrDE4pn8P",
        "colab_type": "text"
      },
      "source": [
        "#Keras layers\n",
        "\n",
        "The building blocks for neural network architectures"
      ]
    },
    {
      "cell_type": "markdown",
      "metadata": {
        "id": "RZHeMOJVp8Ui",
        "colab_type": "text"
      },
      "source": [
        "#Download dataset\n",
        "\n",
        "In this Keras tutorial, we are going to use the Pima Indians onset of diabetes dataset. This is a standard machine learning dataset from the UCI Machine Learning repository. It describes patient medical record data for Pima Indians and whether they had an onset of diabetes within five years.\n",
        "\n",
        "As such, it is a binary classification problem (onset of diabetes as 1 or not as 0). All of the input variables that describe each patient are numerical. This makes it easy to use directly with neural networks that expect numerical input and output values, and ideal for our first neural network in Keras."
      ]
    },
    {
      "cell_type": "code",
      "metadata": {
        "id": "oycfI2SLnukE",
        "colab_type": "code",
        "colab": {
          "base_uri": "https://localhost:8080/",
          "height": 202
        },
        "outputId": "0d0477b6-2c4d-41b3-a18f-eb79be82037b"
      },
      "source": [
        "\n",
        "!wget  http://upscfever.com/datasets/pima-indians-diabetes.data.csv  -P drive/app\n"
      ],
      "execution_count": 1,
      "outputs": [
        {
          "output_type": "stream",
          "text": [
            "--2020-02-15 21:41:32--  http://upscfever.com/datasets/pima-indians-diabetes.data.csv\n",
            "Resolving upscfever.com (upscfever.com)... 104.27.176.133, 104.27.177.133, 2606:4700:3037::681b:b085, ...\n",
            "Connecting to upscfever.com (upscfever.com)|104.27.176.133|:80... connected.\n",
            "HTTP request sent, awaiting response... 200 OK\n",
            "Length: unspecified [text/csv]\n",
            "Saving to: ‘drive/app/pima-indians-diabetes.data.csv’\n",
            "\n",
            "\r          pima-indi     [<=>                 ]       0  --.-KB/s               \rpima-indians-diabet     [ <=>                ]  22.73K  --.-KB/s    in 0s      \n",
            "\n",
            "2020-02-15 21:41:32 (440 MB/s) - ‘drive/app/pima-indians-diabetes.data.csv’ saved [23278]\n",
            "\n"
          ],
          "name": "stdout"
        }
      ]
    },
    {
      "cell_type": "markdown",
      "metadata": {
        "id": "kGUV1OVTqDZD",
        "colab_type": "text"
      },
      "source": [
        "#Load libraries\n",
        "\n",
        "We can now load the file as a matrix of numbers using the NumPy function loadtxt().\n",
        "\n",
        "There are eight input variables and one output variable (the last column). We will be learning a model to map rows of input variables (X) to an output variable (y), which we often summarize as y = f(X).\n",
        "\n",
        "The variables can be summarized as follows:\n",
        "\n",
        "Input Variables (X):\n",
        "\n",
        "1. Number of times pregnant\n",
        "2. Plasma glucose concentration a 2 hours in an oral glucose tolerance test\n",
        "3. Diastolic blood pressure (mm Hg)\n",
        "4. Triceps skin fold thickness (mm)\n",
        "5. 2-Hour serum insulin (mu U/ml)\n",
        "6. Body mass index (weight in kg/(height in m)^2)\n",
        "7. Diabetes pedigree function\n",
        "8. Age (years)\n",
        "\n",
        "Output Variables (y):\n",
        "\n",
        "Class variable (0 or 1)\n"
      ]
    },
    {
      "cell_type": "code",
      "metadata": {
        "id": "ShIacRG-pdej",
        "colab_type": "code",
        "colab": {
          "base_uri": "https://localhost:8080/",
          "height": 79
        },
        "outputId": "6ed50efc-b8b0-40e4-f652-4cb98c3d6081"
      },
      "source": [
        "import pandas as pd\n",
        "import numpy as np\n",
        "from numpy import loadtxt\n",
        "import keras\n",
        "from keras.models import Sequential\n",
        "from keras.layers import Dense\n",
        "dataset = loadtxt('drive/app/pima-indians-diabetes.data.csv', delimiter=',')\n",
        "# split into input (X) and output (y) variables\n",
        "X = dataset[:,0:8]\n",
        "y = dataset[:,8]"
      ],
      "execution_count": 2,
      "outputs": [
        {
          "output_type": "stream",
          "text": [
            "Using TensorFlow backend.\n"
          ],
          "name": "stderr"
        },
        {
          "output_type": "display_data",
          "data": {
            "text/html": [
              "<p style=\"color: red;\">\n",
              "The default version of TensorFlow in Colab will soon switch to TensorFlow 2.x.<br>\n",
              "We recommend you <a href=\"https://www.tensorflow.org/guide/migrate\" target=\"_blank\">upgrade</a> now \n",
              "or ensure your notebook will continue to use TensorFlow 1.x via the <code>%tensorflow_version 1.x</code> magic:\n",
              "<a href=\"https://colab.research.google.com/notebooks/tensorflow_version.ipynb\" target=\"_blank\">more info</a>.</p>\n"
            ],
            "text/plain": [
              "<IPython.core.display.HTML object>"
            ]
          },
          "metadata": {
            "tags": []
          }
        }
      ]
    },
    {
      "cell_type": "markdown",
      "metadata": {
        "id": "1i0X9CY-qaaq",
        "colab_type": "text"
      },
      "source": [
        "#Define keras model\n",
        "\n",
        "##Dense layer\n",
        "\n",
        "```\n",
        "keras.layers.Dense(units, activation=None, use_bias=True, kernel_initializer='glorot_uniform', bias_initializer='zeros', kernel_regularizer=None, bias_regularizer=None, activity_regularizer=None, kernel_constraint=None, bias_constraint=None)\n",
        "```\n",
        "\n",
        "Just your regular densely-connected NN layer.\n",
        "\n",
        "Dense implements the operation: output = activation(dot(input, kernel) + bias) where activation is the element-wise activation function passed as the activation argument, kernel is a weights matrix created by the layer, and bias is a bias vector created by the layer (only applicable if use_bias is True).\n",
        "\n",
        "Note: if the input to the layer has a rank greater than 2, then it is flattened prior to the initial dot product with kernel.\n",
        "\n",
        "Arguments\n",
        "\n",
        "1. units: Positive integer, dimensionality of the output space.\n",
        "2. activation: Activation function to use (see activations). If you don't specify anything, no activation is applied (ie. \"linear\" activation: a(x) = x).\n",
        "3. use_bias: Boolean, whether the layer uses a bias vector.\n",
        "4. kernel_initializer: Initializer for the kernel weights matrix (see initializers).\n",
        "5. bias_initializer: Initializer for the bias vector (see initializers).\n",
        "6. kernel_regularizer: Regularizer function applied to the kernel weights matrix (see regularizer).\n",
        "7. bias_regularizer: Regularizer function applied to the bias vector (see regularizer).\n",
        "8. activity_regularizer: Regularizer function applied to the output of the layer (its \"activation\"). (see regularizer).\n",
        "9. kernel_constraint: Constraint function applied to the kernel weights matrix (see constraints).\n",
        "10. bias_constraint: Constraint function applied to the bias vector (see constraints)."
      ]
    },
    {
      "cell_type": "code",
      "metadata": {
        "id": "IoFq8ywRqceh",
        "colab_type": "code",
        "colab": {
          "base_uri": "https://localhost:8080/",
          "height": 138
        },
        "outputId": "8cbbb792-00a7-489d-b7b0-3f75a798ca9b"
      },
      "source": [
        "# define the keras model\n",
        "model = Sequential()\n",
        "model.add(Dense(units=12, input_dim=8, activation='relu', use_bias=True, kernel_initializer='glorot_uniform', bias_initializer='zeros', kernel_regularizer=keras.regularizers.l1_l2(l1=0.01, l2=0.01), bias_regularizer=keras.regularizers.l1_l2(l1=0.01, l2=0.01), activity_regularizer=keras.regularizers.l1_l2(l1=0.01, l2=0.01), kernel_constraint=keras.constraints.MinMaxNorm(min_value=0.0, max_value=1.0, rate=1.0, axis=0), bias_constraint=keras.constraints.MinMaxNorm(min_value=0.0, max_value=1.0, rate=1.0, axis=0)))\n",
        "model.add(Dense(units=8, activation='relu', use_bias=True, kernel_initializer='glorot_uniform', bias_initializer='zeros', kernel_regularizer=keras.regularizers.l1_l2(l1=0.01, l2=0.01), bias_regularizer=keras.regularizers.l1_l2(l1=0.01, l2=0.01), activity_regularizer=keras.regularizers.l1_l2(l1=0.01, l2=0.01), kernel_constraint=keras.constraints.MinMaxNorm(min_value=0.0, max_value=1.0, rate=1.0, axis=0), bias_constraint=keras.constraints.MinMaxNorm(min_value=0.0, max_value=1.0, rate=1.0, axis=0)))\n",
        "model.add(Dense(units=1, activation='sigmoid', kernel_initializer='glorot_uniform', bias_initializer='zeros', kernel_regularizer=keras.regularizers.l1_l2(l1=0.01, l2=0.01), bias_regularizer=keras.regularizers.l1_l2(l1=0.01, l2=0.01), activity_regularizer=keras.regularizers.l1_l2(l1=0.01, l2=0.01), kernel_constraint=keras.constraints.MinMaxNorm(min_value=0.0, max_value=1.0, rate=1.0, axis=0), bias_constraint=keras.constraints.MinMaxNorm(min_value=0.0, max_value=1.0, rate=1.0, axis=0)))"
      ],
      "execution_count": 3,
      "outputs": [
        {
          "output_type": "stream",
          "text": [
            "WARNING:tensorflow:From /usr/local/lib/python3.6/dist-packages/keras/backend/tensorflow_backend.py:66: The name tf.get_default_graph is deprecated. Please use tf.compat.v1.get_default_graph instead.\n",
            "\n",
            "WARNING:tensorflow:From /usr/local/lib/python3.6/dist-packages/keras/backend/tensorflow_backend.py:541: The name tf.placeholder is deprecated. Please use tf.compat.v1.placeholder instead.\n",
            "\n",
            "WARNING:tensorflow:From /usr/local/lib/python3.6/dist-packages/keras/backend/tensorflow_backend.py:4432: The name tf.random_uniform is deprecated. Please use tf.random.uniform instead.\n",
            "\n"
          ],
          "name": "stdout"
        }
      ]
    },
    {
      "cell_type": "markdown",
      "metadata": {
        "id": "fu_8Z0x6sbE3",
        "colab_type": "text"
      },
      "source": [
        "#Dense layers\n",
        "\n",
        "Above code:\n",
        "\n",
        "1. The model expects rows of data with 8 variables (the input_dim=8 argument)\n",
        "2. The first hidden layer has 12 nodes and uses the relu activation function.\n",
        "3. The second hidden layer has 8 nodes and uses the relu activation function.\n",
        "4. The output layer has one node and uses the sigmoid activation function."
      ]
    },
    {
      "cell_type": "markdown",
      "metadata": {
        "id": "SL4gN-VMqzTk",
        "colab_type": "text"
      },
      "source": [
        "#Model compile"
      ]
    },
    {
      "cell_type": "code",
      "metadata": {
        "id": "FRWDG3XMtKMA",
        "colab_type": "code",
        "colab": {
          "base_uri": "https://localhost:8080/",
          "height": 154
        },
        "outputId": "62a50ff4-9b60-4b5f-fcb2-241f828048ee"
      },
      "source": [
        "# compile the keras model\n",
        "model.compile(loss='binary_crossentropy', optimizer='adam', metrics=['accuracy'])"
      ],
      "execution_count": 4,
      "outputs": [
        {
          "output_type": "stream",
          "text": [
            "WARNING:tensorflow:From /usr/local/lib/python3.6/dist-packages/keras/optimizers.py:793: The name tf.train.Optimizer is deprecated. Please use tf.compat.v1.train.Optimizer instead.\n",
            "\n",
            "WARNING:tensorflow:From /usr/local/lib/python3.6/dist-packages/keras/backend/tensorflow_backend.py:3657: The name tf.log is deprecated. Please use tf.math.log instead.\n",
            "\n",
            "WARNING:tensorflow:From /usr/local/lib/python3.6/dist-packages/tensorflow_core/python/ops/nn_impl.py:183: where (from tensorflow.python.ops.array_ops) is deprecated and will be removed in a future version.\n",
            "Instructions for updating:\n",
            "Use tf.where in 2.0, which has the same broadcast rule as np.where\n"
          ],
          "name": "stdout"
        }
      ]
    },
    {
      "cell_type": "markdown",
      "metadata": {
        "id": "cvCMp556tNZw",
        "colab_type": "text"
      },
      "source": [
        "#Fit Keras Model"
      ]
    },
    {
      "cell_type": "code",
      "metadata": {
        "id": "BnvfSSNktSIR",
        "colab_type": "code",
        "colab": {
          "base_uri": "https://localhost:8080/",
          "height": 1000
        },
        "outputId": "08d8979a-2e2b-4d22-d3ac-0d67a06aa87d"
      },
      "source": [
        "# fit the keras model on the dataset\n",
        "model.fit(X, y, epochs=150, batch_size=10)"
      ],
      "execution_count": 5,
      "outputs": [
        {
          "output_type": "stream",
          "text": [
            "WARNING:tensorflow:From /usr/local/lib/python3.6/dist-packages/keras/backend/tensorflow_backend.py:1033: The name tf.assign_add is deprecated. Please use tf.compat.v1.assign_add instead.\n",
            "\n",
            "WARNING:tensorflow:From /usr/local/lib/python3.6/dist-packages/keras/backend/tensorflow_backend.py:1020: The name tf.assign is deprecated. Please use tf.compat.v1.assign instead.\n",
            "\n",
            "WARNING:tensorflow:From /usr/local/lib/python3.6/dist-packages/keras/backend/tensorflow_backend.py:3005: The name tf.Session is deprecated. Please use tf.compat.v1.Session instead.\n",
            "\n",
            "Epoch 1/150\n",
            "WARNING:tensorflow:From /usr/local/lib/python3.6/dist-packages/keras/backend/tensorflow_backend.py:190: The name tf.get_default_session is deprecated. Please use tf.compat.v1.get_default_session instead.\n",
            "\n",
            "WARNING:tensorflow:From /usr/local/lib/python3.6/dist-packages/keras/backend/tensorflow_backend.py:197: The name tf.ConfigProto is deprecated. Please use tf.compat.v1.ConfigProto instead.\n",
            "\n",
            "WARNING:tensorflow:From /usr/local/lib/python3.6/dist-packages/keras/backend/tensorflow_backend.py:207: The name tf.global_variables is deprecated. Please use tf.compat.v1.global_variables instead.\n",
            "\n",
            "WARNING:tensorflow:From /usr/local/lib/python3.6/dist-packages/keras/backend/tensorflow_backend.py:216: The name tf.is_variable_initialized is deprecated. Please use tf.compat.v1.is_variable_initialized instead.\n",
            "\n",
            "WARNING:tensorflow:From /usr/local/lib/python3.6/dist-packages/keras/backend/tensorflow_backend.py:223: The name tf.variables_initializer is deprecated. Please use tf.compat.v1.variables_initializer instead.\n",
            "\n",
            "768/768 [==============================] - 1s 1ms/step - loss: 5863.9834 - acc: 0.3490\n",
            "Epoch 2/150\n",
            "768/768 [==============================] - 0s 166us/step - loss: 2825.0515 - acc: 0.3542\n",
            "Epoch 3/150\n",
            "768/768 [==============================] - 0s 150us/step - loss: 1533.1341 - acc: 0.4661\n",
            "Epoch 4/150\n",
            "768/768 [==============================] - 0s 156us/step - loss: 867.5918 - acc: 0.5443\n",
            "Epoch 5/150\n",
            "768/768 [==============================] - 0s 164us/step - loss: 506.2459 - acc: 0.5469\n",
            "Epoch 6/150\n",
            "768/768 [==============================] - 0s 167us/step - loss: 299.7390 - acc: 0.5586\n",
            "Epoch 7/150\n",
            "768/768 [==============================] - 0s 163us/step - loss: 180.8594 - acc: 0.5729\n",
            "Epoch 8/150\n",
            "768/768 [==============================] - 0s 152us/step - loss: 111.4663 - acc: 0.5755\n",
            "Epoch 9/150\n",
            "768/768 [==============================] - 0s 149us/step - loss: 70.3508 - acc: 0.6302\n",
            "Epoch 10/150\n",
            "768/768 [==============================] - 0s 149us/step - loss: 44.8127 - acc: 0.6458\n",
            "Epoch 11/150\n",
            "768/768 [==============================] - 0s 153us/step - loss: 29.8876 - acc: 0.6497\n",
            "Epoch 12/150\n",
            "768/768 [==============================] - 0s 147us/step - loss: 20.5864 - acc: 0.6471\n",
            "Epoch 13/150\n",
            "768/768 [==============================] - 0s 160us/step - loss: 14.6435 - acc: 0.6484\n",
            "Epoch 14/150\n",
            "768/768 [==============================] - 0s 148us/step - loss: 10.8490 - acc: 0.6484\n",
            "Epoch 15/150\n",
            "768/768 [==============================] - 0s 161us/step - loss: 8.2914 - acc: 0.6484\n",
            "Epoch 16/150\n",
            "768/768 [==============================] - 0s 147us/step - loss: 6.6045 - acc: 0.6510\n",
            "Epoch 17/150\n",
            "768/768 [==============================] - 0s 148us/step - loss: 5.4068 - acc: 0.6510\n",
            "Epoch 18/150\n",
            "768/768 [==============================] - 0s 152us/step - loss: 4.4397 - acc: 0.6510\n",
            "Epoch 19/150\n",
            "768/768 [==============================] - 0s 153us/step - loss: 3.9093 - acc: 0.6510\n",
            "Epoch 20/150\n",
            "768/768 [==============================] - 0s 147us/step - loss: 3.4255 - acc: 0.6510\n",
            "Epoch 21/150\n",
            "768/768 [==============================] - 0s 145us/step - loss: 3.0425 - acc: 0.6510\n",
            "Epoch 22/150\n",
            "768/768 [==============================] - 0s 152us/step - loss: 2.7673 - acc: 0.6510\n",
            "Epoch 23/150\n",
            "768/768 [==============================] - 0s 145us/step - loss: 2.5281 - acc: 0.6510\n",
            "Epoch 24/150\n",
            "768/768 [==============================] - 0s 146us/step - loss: 2.3418 - acc: 0.6510\n",
            "Epoch 25/150\n",
            "768/768 [==============================] - 0s 157us/step - loss: 2.1945 - acc: 0.6510\n",
            "Epoch 26/150\n",
            "768/768 [==============================] - 0s 149us/step - loss: 2.0803 - acc: 0.6510\n",
            "Epoch 27/150\n",
            "768/768 [==============================] - 0s 147us/step - loss: 1.9795 - acc: 0.6510\n",
            "Epoch 28/150\n",
            "768/768 [==============================] - 0s 146us/step - loss: 1.8917 - acc: 0.6510\n",
            "Epoch 29/150\n",
            "768/768 [==============================] - 0s 155us/step - loss: 1.8242 - acc: 0.6510\n",
            "Epoch 30/150\n",
            "768/768 [==============================] - 0s 147us/step - loss: 1.7468 - acc: 0.6510\n",
            "Epoch 31/150\n",
            "768/768 [==============================] - 0s 147us/step - loss: 1.7131 - acc: 0.6510\n",
            "Epoch 32/150\n",
            "768/768 [==============================] - 0s 154us/step - loss: 1.6574 - acc: 0.6510\n",
            "Epoch 33/150\n",
            "768/768 [==============================] - 0s 147us/step - loss: 1.6182 - acc: 0.6510\n",
            "Epoch 34/150\n",
            "768/768 [==============================] - 0s 151us/step - loss: 1.5735 - acc: 0.6510\n",
            "Epoch 35/150\n",
            "768/768 [==============================] - 0s 153us/step - loss: 1.5490 - acc: 0.6510\n",
            "Epoch 36/150\n",
            "768/768 [==============================] - 0s 152us/step - loss: 1.5191 - acc: 0.6510\n",
            "Epoch 37/150\n",
            "768/768 [==============================] - 0s 152us/step - loss: 1.4921 - acc: 0.6510\n",
            "Epoch 38/150\n",
            "768/768 [==============================] - 0s 154us/step - loss: 1.4678 - acc: 0.6510\n",
            "Epoch 39/150\n",
            "768/768 [==============================] - 0s 149us/step - loss: 1.4455 - acc: 0.6510\n",
            "Epoch 40/150\n",
            "768/768 [==============================] - 0s 166us/step - loss: 1.4256 - acc: 0.6510\n",
            "Epoch 41/150\n",
            "768/768 [==============================] - 0s 149us/step - loss: 1.4073 - acc: 0.6510\n",
            "Epoch 42/150\n",
            "768/768 [==============================] - 0s 149us/step - loss: 1.3904 - acc: 0.6510\n",
            "Epoch 43/150\n",
            "768/768 [==============================] - 0s 152us/step - loss: 1.3735 - acc: 0.6510\n",
            "Epoch 44/150\n",
            "768/768 [==============================] - 0s 148us/step - loss: 1.3608 - acc: 0.6510\n",
            "Epoch 45/150\n",
            "768/768 [==============================] - 0s 156us/step - loss: 1.3479 - acc: 0.6510\n",
            "Epoch 46/150\n",
            "768/768 [==============================] - 0s 152us/step - loss: 1.3358 - acc: 0.6510\n",
            "Epoch 47/150\n",
            "768/768 [==============================] - 0s 153us/step - loss: 1.3217 - acc: 0.6510\n",
            "Epoch 48/150\n",
            "768/768 [==============================] - 0s 154us/step - loss: 1.3133 - acc: 0.6510\n",
            "Epoch 49/150\n",
            "768/768 [==============================] - 0s 147us/step - loss: 1.3031 - acc: 0.6510\n",
            "Epoch 50/150\n",
            "768/768 [==============================] - 0s 153us/step - loss: 1.2935 - acc: 0.6510\n",
            "Epoch 51/150\n",
            "768/768 [==============================] - 0s 144us/step - loss: 1.2845 - acc: 0.6510\n",
            "Epoch 52/150\n",
            "768/768 [==============================] - 0s 147us/step - loss: 1.2759 - acc: 0.6510\n",
            "Epoch 53/150\n",
            "768/768 [==============================] - 0s 145us/step - loss: 1.2676 - acc: 0.6510\n",
            "Epoch 54/150\n",
            "768/768 [==============================] - 0s 148us/step - loss: 1.2596 - acc: 0.6510\n",
            "Epoch 55/150\n",
            "768/768 [==============================] - 0s 151us/step - loss: 1.2523 - acc: 0.6510\n",
            "Epoch 56/150\n",
            "768/768 [==============================] - 0s 150us/step - loss: 1.2439 - acc: 0.6510\n",
            "Epoch 57/150\n",
            "768/768 [==============================] - 0s 155us/step - loss: 1.2375 - acc: 0.6510\n",
            "Epoch 58/150\n",
            "768/768 [==============================] - 0s 151us/step - loss: 1.2298 - acc: 0.6510\n",
            "Epoch 59/150\n",
            "768/768 [==============================] - 0s 148us/step - loss: 1.2246 - acc: 0.6510\n",
            "Epoch 60/150\n",
            "768/768 [==============================] - 0s 144us/step - loss: 1.2180 - acc: 0.6510\n",
            "Epoch 61/150\n",
            "768/768 [==============================] - 0s 146us/step - loss: 1.2115 - acc: 0.6510\n",
            "Epoch 62/150\n",
            "768/768 [==============================] - 0s 146us/step - loss: 1.2050 - acc: 0.6510\n",
            "Epoch 63/150\n",
            "768/768 [==============================] - 0s 150us/step - loss: 1.1986 - acc: 0.6510\n",
            "Epoch 64/150\n",
            "768/768 [==============================] - 0s 168us/step - loss: 1.1923 - acc: 0.6510\n",
            "Epoch 65/150\n",
            "768/768 [==============================] - 0s 147us/step - loss: 1.1860 - acc: 0.6510\n",
            "Epoch 66/150\n",
            "768/768 [==============================] - 0s 144us/step - loss: 1.1788 - acc: 0.6510\n",
            "Epoch 67/150\n",
            "768/768 [==============================] - 0s 158us/step - loss: 1.1740 - acc: 0.6510\n",
            "Epoch 68/150\n",
            "768/768 [==============================] - 0s 153us/step - loss: 1.1679 - acc: 0.6510\n",
            "Epoch 69/150\n",
            "768/768 [==============================] - 0s 148us/step - loss: 1.1621 - acc: 0.6510\n",
            "Epoch 70/150\n",
            "768/768 [==============================] - 0s 146us/step - loss: 1.1563 - acc: 0.6510\n",
            "Epoch 71/150\n",
            "768/768 [==============================] - 0s 149us/step - loss: 1.1505 - acc: 0.6510\n",
            "Epoch 72/150\n",
            "768/768 [==============================] - 0s 146us/step - loss: 1.1446 - acc: 0.6510\n",
            "Epoch 73/150\n",
            "768/768 [==============================] - 0s 151us/step - loss: 1.1392 - acc: 0.6510\n",
            "Epoch 74/150\n",
            "768/768 [==============================] - 0s 158us/step - loss: 1.1338 - acc: 0.6510\n",
            "Epoch 75/150\n",
            "768/768 [==============================] - 0s 150us/step - loss: 1.1283 - acc: 0.6510\n",
            "Epoch 76/150\n",
            "768/768 [==============================] - 0s 139us/step - loss: 1.1230 - acc: 0.6510\n",
            "Epoch 77/150\n",
            "768/768 [==============================] - 0s 151us/step - loss: 1.1178 - acc: 0.6510\n",
            "Epoch 78/150\n",
            "768/768 [==============================] - 0s 150us/step - loss: 1.1127 - acc: 0.6510\n",
            "Epoch 79/150\n",
            "768/768 [==============================] - 0s 145us/step - loss: 1.1076 - acc: 0.6510\n",
            "Epoch 80/150\n",
            "768/768 [==============================] - 0s 149us/step - loss: 1.1027 - acc: 0.6510\n",
            "Epoch 81/150\n",
            "768/768 [==============================] - 0s 147us/step - loss: 1.0981 - acc: 0.6510\n",
            "Epoch 82/150\n",
            "768/768 [==============================] - 0s 165us/step - loss: 1.0935 - acc: 0.6510\n",
            "Epoch 83/150\n",
            "768/768 [==============================] - 0s 145us/step - loss: 1.0892 - acc: 0.6510\n",
            "Epoch 84/150\n",
            "768/768 [==============================] - 0s 140us/step - loss: 1.0849 - acc: 0.6510\n",
            "Epoch 85/150\n",
            "768/768 [==============================] - 0s 141us/step - loss: 1.0807 - acc: 0.6510\n",
            "Epoch 86/150\n",
            "768/768 [==============================] - 0s 155us/step - loss: 1.0768 - acc: 0.6510\n",
            "Epoch 87/150\n",
            "768/768 [==============================] - 0s 149us/step - loss: 1.0731 - acc: 0.6510\n",
            "Epoch 88/150\n",
            "768/768 [==============================] - 0s 146us/step - loss: 1.0695 - acc: 0.6510\n",
            "Epoch 89/150\n",
            "768/768 [==============================] - 0s 156us/step - loss: 1.0659 - acc: 0.6510\n",
            "Epoch 90/150\n",
            "768/768 [==============================] - 0s 156us/step - loss: 1.0628 - acc: 0.6510\n",
            "Epoch 91/150\n",
            "768/768 [==============================] - 0s 155us/step - loss: 1.0593 - acc: 0.6510\n",
            "Epoch 92/150\n",
            "768/768 [==============================] - 0s 151us/step - loss: 1.0559 - acc: 0.6510\n",
            "Epoch 93/150\n",
            "768/768 [==============================] - 0s 148us/step - loss: 1.0524 - acc: 0.6510\n",
            "Epoch 94/150\n",
            "768/768 [==============================] - 0s 146us/step - loss: 1.0489 - acc: 0.6510\n",
            "Epoch 95/150\n",
            "768/768 [==============================] - 0s 164us/step - loss: 1.0454 - acc: 0.6510\n",
            "Epoch 96/150\n",
            "768/768 [==============================] - 0s 148us/step - loss: 1.0417 - acc: 0.6510\n",
            "Epoch 97/150\n",
            "768/768 [==============================] - 0s 148us/step - loss: 1.0381 - acc: 0.6510\n",
            "Epoch 98/150\n",
            "768/768 [==============================] - 0s 144us/step - loss: 1.0344 - acc: 0.6510\n",
            "Epoch 99/150\n",
            "768/768 [==============================] - 0s 147us/step - loss: 1.0307 - acc: 0.6510\n",
            "Epoch 100/150\n",
            "768/768 [==============================] - 0s 151us/step - loss: 1.0268 - acc: 0.6510\n",
            "Epoch 101/150\n",
            "768/768 [==============================] - 0s 148us/step - loss: 1.0233 - acc: 0.6510\n",
            "Epoch 102/150\n",
            "768/768 [==============================] - 0s 144us/step - loss: 1.0194 - acc: 0.6510\n",
            "Epoch 103/150\n",
            "768/768 [==============================] - 0s 145us/step - loss: 1.0156 - acc: 0.6510\n",
            "Epoch 104/150\n",
            "768/768 [==============================] - 0s 150us/step - loss: 1.0116 - acc: 0.6510\n",
            "Epoch 105/150\n",
            "768/768 [==============================] - 0s 142us/step - loss: 1.0076 - acc: 0.6510\n",
            "Epoch 106/150\n",
            "768/768 [==============================] - 0s 140us/step - loss: 1.0038 - acc: 0.6510\n",
            "Epoch 107/150\n",
            "768/768 [==============================] - 0s 146us/step - loss: 0.9997 - acc: 0.6510\n",
            "Epoch 108/150\n",
            "768/768 [==============================] - 0s 162us/step - loss: 0.9956 - acc: 0.6510\n",
            "Epoch 109/150\n",
            "768/768 [==============================] - 0s 145us/step - loss: 0.9915 - acc: 0.6510\n",
            "Epoch 110/150\n",
            "768/768 [==============================] - 0s 147us/step - loss: 0.9876 - acc: 0.6510\n",
            "Epoch 111/150\n",
            "768/768 [==============================] - 0s 150us/step - loss: 0.9837 - acc: 0.6510\n",
            "Epoch 112/150\n",
            "768/768 [==============================] - 0s 143us/step - loss: 0.9798 - acc: 0.6510\n",
            "Epoch 113/150\n",
            "768/768 [==============================] - 0s 141us/step - loss: 0.9756 - acc: 0.6510\n",
            "Epoch 114/150\n",
            "768/768 [==============================] - 0s 142us/step - loss: 0.9716 - acc: 0.6510\n",
            "Epoch 115/150\n",
            "768/768 [==============================] - 0s 148us/step - loss: 0.9674 - acc: 0.6510\n",
            "Epoch 116/150\n",
            "768/768 [==============================] - 0s 148us/step - loss: 0.9632 - acc: 0.6510\n",
            "Epoch 117/150\n",
            "768/768 [==============================] - 0s 150us/step - loss: 0.9592 - acc: 0.6510\n",
            "Epoch 118/150\n",
            "768/768 [==============================] - 0s 147us/step - loss: 0.9552 - acc: 0.6510\n",
            "Epoch 119/150\n",
            "768/768 [==============================] - 0s 144us/step - loss: 0.9513 - acc: 0.6510\n",
            "Epoch 120/150\n",
            "768/768 [==============================] - 0s 148us/step - loss: 0.9473 - acc: 0.6510\n",
            "Epoch 121/150\n",
            "768/768 [==============================] - 0s 142us/step - loss: 0.9433 - acc: 0.6510\n",
            "Epoch 122/150\n",
            "768/768 [==============================] - 0s 153us/step - loss: 0.9395 - acc: 0.6510\n",
            "Epoch 123/150\n",
            "768/768 [==============================] - 0s 152us/step - loss: 0.9357 - acc: 0.6510\n",
            "Epoch 124/150\n",
            "768/768 [==============================] - 0s 156us/step - loss: 0.9315 - acc: 0.6510\n",
            "Epoch 125/150\n",
            "768/768 [==============================] - 0s 156us/step - loss: 0.9279 - acc: 0.6510\n",
            "Epoch 126/150\n",
            "768/768 [==============================] - 0s 149us/step - loss: 0.9238 - acc: 0.6510\n",
            "Epoch 127/150\n",
            "768/768 [==============================] - 0s 144us/step - loss: 0.9196 - acc: 0.6510\n",
            "Epoch 128/150\n",
            "768/768 [==============================] - 0s 145us/step - loss: 0.9157 - acc: 0.6510\n",
            "Epoch 129/150\n",
            "768/768 [==============================] - 0s 156us/step - loss: 0.9115 - acc: 0.6510\n",
            "Epoch 130/150\n",
            "768/768 [==============================] - 0s 145us/step - loss: 0.9073 - acc: 0.6510\n",
            "Epoch 131/150\n",
            "768/768 [==============================] - 0s 146us/step - loss: 0.9032 - acc: 0.6510\n",
            "Epoch 132/150\n",
            "768/768 [==============================] - 0s 161us/step - loss: 0.8993 - acc: 0.6510\n",
            "Epoch 133/150\n",
            "768/768 [==============================] - 0s 163us/step - loss: 0.8955 - acc: 0.6510\n",
            "Epoch 134/150\n",
            "768/768 [==============================] - 0s 154us/step - loss: 0.8918 - acc: 0.6510\n",
            "Epoch 135/150\n",
            "768/768 [==============================] - 0s 147us/step - loss: 0.8877 - acc: 0.6510\n",
            "Epoch 136/150\n",
            "768/768 [==============================] - 0s 149us/step - loss: 0.8838 - acc: 0.6510\n",
            "Epoch 137/150\n",
            "768/768 [==============================] - 0s 148us/step - loss: 0.8801 - acc: 0.6510\n",
            "Epoch 138/150\n",
            "768/768 [==============================] - 0s 148us/step - loss: 0.8764 - acc: 0.6510\n",
            "Epoch 139/150\n",
            "768/768 [==============================] - 0s 148us/step - loss: 0.8730 - acc: 0.6510\n",
            "Epoch 140/150\n",
            "768/768 [==============================] - 0s 147us/step - loss: 0.8698 - acc: 0.6510\n",
            "Epoch 141/150\n",
            "768/768 [==============================] - 0s 150us/step - loss: 0.8659 - acc: 0.6510\n",
            "Epoch 142/150\n",
            "768/768 [==============================] - 0s 146us/step - loss: 0.8623 - acc: 0.6510\n",
            "Epoch 143/150\n",
            "768/768 [==============================] - 0s 153us/step - loss: 0.8588 - acc: 0.6510\n",
            "Epoch 144/150\n",
            "768/768 [==============================] - 0s 153us/step - loss: 0.8554 - acc: 0.6510\n",
            "Epoch 145/150\n",
            "768/768 [==============================] - 0s 151us/step - loss: 0.8520 - acc: 0.6510\n",
            "Epoch 146/150\n",
            "768/768 [==============================] - 0s 153us/step - loss: 0.8487 - acc: 0.6510\n",
            "Epoch 147/150\n",
            "768/768 [==============================] - 0s 152us/step - loss: 0.8455 - acc: 0.6510\n",
            "Epoch 148/150\n",
            "768/768 [==============================] - 0s 154us/step - loss: 0.8424 - acc: 0.6510\n",
            "Epoch 149/150\n",
            "768/768 [==============================] - 0s 152us/step - loss: 0.8392 - acc: 0.6510\n",
            "Epoch 150/150\n",
            "768/768 [==============================] - 0s 155us/step - loss: 0.8357 - acc: 0.6510\n"
          ],
          "name": "stdout"
        },
        {
          "output_type": "execute_result",
          "data": {
            "text/plain": [
              "<keras.callbacks.History at 0x7fb68244efd0>"
            ]
          },
          "metadata": {
            "tags": []
          },
          "execution_count": 5
        }
      ]
    },
    {
      "cell_type": "markdown",
      "metadata": {
        "id": "OYOV62LqtUMY",
        "colab_type": "text"
      },
      "source": [
        "#Evaluate Keras Model"
      ]
    },
    {
      "cell_type": "code",
      "metadata": {
        "id": "EvnxnPIgtWWh",
        "colab_type": "code",
        "colab": {
          "base_uri": "https://localhost:8080/",
          "height": 50
        },
        "outputId": "56e0da0a-1385-40fd-fd83-4f3447f22ec3"
      },
      "source": [
        "# evaluate the keras model\n",
        "_, accuracy = model.evaluate(X, y)\n",
        "print('Accuracy: %.2f' % (accuracy*100))"
      ],
      "execution_count": 6,
      "outputs": [
        {
          "output_type": "stream",
          "text": [
            "768/768 [==============================] - 0s 105us/step\n",
            "Accuracy: 65.10\n"
          ],
          "name": "stdout"
        }
      ]
    },
    {
      "cell_type": "markdown",
      "metadata": {
        "id": "jXn6vvh3uhya",
        "colab_type": "text"
      },
      "source": [
        "#Thank you for completing this notebook"
      ]
    }
  ]
}