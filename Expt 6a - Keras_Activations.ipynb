{
  "nbformat": 4,
  "nbformat_minor": 0,
  "metadata": {
    "colab": {
      "name": "Keras Activations - Expt 6.ipynb",
      "provenance": [],
      "collapsed_sections": [],
      "toc_visible": true,
      "include_colab_link": true
    },
    "kernelspec": {
      "name": "python3",
      "display_name": "Python 3"
    },
    "accelerator": "GPU"
  },
  "cells": [
    {
      "cell_type": "markdown",
      "metadata": {
        "id": "view-in-github",
        "colab_type": "text"
      },
      "source": [
        "<a href=\"https://colab.research.google.com/github/sidh26/DL-Assignments/blob/master/Expt%206a%20-%20Keras_Activations.ipynb\" target=\"_parent\"><img src=\"https://colab.research.google.com/assets/colab-badge.svg\" alt=\"Open In Colab\"/></a>"
      ]
    },
    {
      "cell_type": "code",
      "metadata": {
        "id": "_h2hh61rt8o4",
        "colab_type": "code",
        "colab": {}
      },
      "source": [
        "activations={}"
      ],
      "execution_count": 0,
      "outputs": []
    },
    {
      "cell_type": "markdown",
      "metadata": {
        "id": "VmQKx4diH0vV",
        "colab_type": "text"
      },
      "source": [
        "#Usage of activations\n",
        "\n",
        "Activations can either be used through an Activation layer, or through the activation argument supported by all forward layers:\n",
        "\n",
        "\n",
        "\n",
        "```\n",
        "from keras.layers import Activation, Dense\n",
        "model.add(Dense(64))\n",
        "model.add(Activation('tanh'))\n",
        "```\n",
        "\n",
        "\n",
        "\n",
        "This is equivalent to:\n",
        "\n",
        "```\n",
        "model.add(Dense(64, activation='tanh'))\n",
        "```\n",
        "\n",
        "You can also pass an element-wise TensorFlow/Theano/CNTK function as an activation:\n",
        "\n",
        "```\n",
        "from keras import backend as K\n",
        "model.add(Dense(64, activation=K.tanh))\n",
        "```"
      ]
    },
    {
      "cell_type": "markdown",
      "metadata": {
        "id": "gcMWdTDBIik-",
        "colab_type": "text"
      },
      "source": [
        "#elu\n",
        "\n",
        "keras.activations.elu(x, alpha=1.0)\n",
        "\n",
        "Exponential linear unit.\n",
        "\n",
        "##Arguments\n",
        "\n",
        "1. x: Input tensor.\n",
        "2. alpha: A scalar, slope of negative section.\n",
        "\n",
        "Returns\n",
        "\n",
        "1. The exponential linear activation: x if x > 0 and alpha * (exp(x)-1) if x < 0."
      ]
    },
    {
      "cell_type": "code",
      "metadata": {
        "id": "MFwOV5GJHUoB",
        "colab_type": "code",
        "colab": {
          "base_uri": "https://localhost:8080/",
          "height": 403
        },
        "outputId": "59df8a8f-a98a-4d5f-e38d-3b25958de187"
      },
      "source": [
        "import keras\n",
        "from keras import models\n",
        "from keras.layers import Dense, Dropout\n",
        "from keras.utils import to_categorical\n",
        "from keras.datasets import mnist\n",
        "from keras.utils.vis_utils import model_to_dot\n",
        "from IPython.display import SVG\n",
        "\n",
        "NUM_ROWS = 28\n",
        "NUM_COLS = 28\n",
        "NUM_CLASSES = 10\n",
        "BATCH_SIZE = 128\n",
        "EPOCHS = 10\n",
        "\n",
        "# Load data\n",
        "(X_train, y_train), (X_test, y_test) = mnist.load_data()\n",
        "\n",
        "# Reshape data\n",
        "X_train = X_train.reshape((X_train.shape[0], NUM_ROWS * NUM_COLS))\n",
        "X_train = X_train.astype('float32') / 255\n",
        "X_test = X_test.reshape((X_test.shape[0], NUM_ROWS * NUM_COLS))\n",
        "X_test = X_test.astype('float32') / 255\n",
        "\n",
        "# Categorically encode labels\n",
        "y_train = to_categorical(y_train, NUM_CLASSES)\n",
        "y_test = to_categorical(y_test, NUM_CLASSES)\n",
        "\n",
        "\n",
        "# Build neural network\n",
        "model = models.Sequential()\n",
        "model.add(Dense(512, activation='elu', input_shape=(NUM_ROWS * NUM_COLS,)))\n",
        "model.add(Dense(256, activation='elu'))\n",
        "model.add(Dense(10, activation='softmax'))\n",
        "\n",
        "# Compile model\n",
        "model.compile(optimizer='rmsprop',\n",
        "              loss='categorical_crossentropy',\n",
        "              metrics=['accuracy'])\n",
        "\n",
        "# Train model\n",
        "model.fit(X_train, y_train,\n",
        "          batch_size=BATCH_SIZE,\n",
        "          epochs=EPOCHS,\n",
        "          verbose=1,\n",
        "          validation_data=(X_test, y_test))\n",
        "\n",
        "score = model.evaluate(X_test, y_test, verbose=0)\n",
        "print('Test loss:', score[0])\n",
        "print('Test accuracy:', score[1])\n",
        "activations['elu'] = score[1]"
      ],
      "execution_count": 17,
      "outputs": [
        {
          "output_type": "stream",
          "text": [
            "Train on 60000 samples, validate on 10000 samples\n",
            "Epoch 1/10\n",
            "60000/60000 [==============================] - 2s 33us/step - loss: 0.2892 - acc: 0.9125 - val_loss: 0.1470 - val_acc: 0.9546\n",
            "Epoch 2/10\n",
            "60000/60000 [==============================] - 2s 28us/step - loss: 0.1206 - acc: 0.9633 - val_loss: 0.1175 - val_acc: 0.9642\n",
            "Epoch 3/10\n",
            "60000/60000 [==============================] - 2s 31us/step - loss: 0.0815 - acc: 0.9742 - val_loss: 0.0826 - val_acc: 0.9751\n",
            "Epoch 4/10\n",
            "60000/60000 [==============================] - 2s 30us/step - loss: 0.0629 - acc: 0.9800 - val_loss: 0.0818 - val_acc: 0.9738\n",
            "Epoch 5/10\n",
            "60000/60000 [==============================] - 2s 30us/step - loss: 0.0491 - acc: 0.9840 - val_loss: 0.0869 - val_acc: 0.9745\n",
            "Epoch 6/10\n",
            "60000/60000 [==============================] - 2s 28us/step - loss: 0.0404 - acc: 0.9869 - val_loss: 0.0837 - val_acc: 0.9758\n",
            "Epoch 7/10\n",
            "60000/60000 [==============================] - 2s 30us/step - loss: 0.0328 - acc: 0.9895 - val_loss: 0.0727 - val_acc: 0.9806\n",
            "Epoch 8/10\n",
            "60000/60000 [==============================] - 2s 30us/step - loss: 0.0268 - acc: 0.9912 - val_loss: 0.0882 - val_acc: 0.9775\n",
            "Epoch 9/10\n",
            "60000/60000 [==============================] - 2s 31us/step - loss: 0.0236 - acc: 0.9923 - val_loss: 0.0869 - val_acc: 0.9786\n",
            "Epoch 10/10\n",
            "60000/60000 [==============================] - 2s 29us/step - loss: 0.0201 - acc: 0.9933 - val_loss: 0.0939 - val_acc: 0.9801\n",
            "Test loss: 0.09393167913715933\n",
            "Test accuracy: 0.9801\n"
          ],
          "name": "stdout"
        }
      ]
    },
    {
      "cell_type": "markdown",
      "metadata": {
        "id": "gUN3hrzoKAmX",
        "colab_type": "text"
      },
      "source": [
        "#softmax\n",
        "\n",
        "keras.activations.softmax(x, axis=-1)\n",
        "\n",
        "##Softmax activation function.\n",
        "\n",
        "##Arguments\n",
        "\n",
        "1. x: Input tensor.\n",
        "2. axis: Integer, axis along which the softmax normalization is applied.\n",
        "\n",
        "##Returns\n",
        "\n",
        "Tensor, output of softmax transformation.\n",
        "\n",
        "##Raises\n",
        "\n",
        "ValueError: In case dim(x) == 1."
      ]
    },
    {
      "cell_type": "code",
      "metadata": {
        "id": "XOQfshRuKK2k",
        "colab_type": "code",
        "colab": {
          "base_uri": "https://localhost:8080/",
          "height": 403
        },
        "outputId": "204cde56-8d28-4f62-d93c-cdf10d06a2ac"
      },
      "source": [
        "# Build neural network\n",
        "model = models.Sequential()\n",
        "model.add(Dense(512, activation='softmax', input_shape=(NUM_ROWS * NUM_COLS,)))\n",
        "model.add(Dense(256, activation='softmax'))\n",
        "model.add(Dense(10, activation='softmax'))\n",
        "\n",
        "# Compile model\n",
        "model.compile(optimizer='rmsprop',\n",
        "              loss='categorical_crossentropy',\n",
        "              metrics=['accuracy'])\n",
        "\n",
        "# Train model\n",
        "model.fit(X_train, y_train,\n",
        "          batch_size=BATCH_SIZE,\n",
        "          epochs=EPOCHS,\n",
        "          verbose=1,\n",
        "          validation_data=(X_test, y_test))\n",
        "\n",
        "score = model.evaluate(X_test, y_test, verbose=0)\n",
        "print('Test loss:', score[0])\n",
        "print('Test accuracy:', score[1])\n",
        "activations['softmax'] = score[1]"
      ],
      "execution_count": 18,
      "outputs": [
        {
          "output_type": "stream",
          "text": [
            "Train on 60000 samples, validate on 10000 samples\n",
            "Epoch 1/10\n",
            "60000/60000 [==============================] - 2s 38us/step - loss: 2.2690 - acc: 0.1781 - val_loss: 2.1950 - val_acc: 0.6540\n",
            "Epoch 2/10\n",
            "60000/60000 [==============================] - 2s 32us/step - loss: 2.0404 - acc: 0.6707 - val_loss: 1.8526 - val_acc: 0.6757\n",
            "Epoch 3/10\n",
            "60000/60000 [==============================] - 2s 32us/step - loss: 1.6474 - acc: 0.6759 - val_loss: 1.4382 - val_acc: 0.6779\n",
            "Epoch 4/10\n",
            "60000/60000 [==============================] - 2s 32us/step - loss: 1.2600 - acc: 0.6794 - val_loss: 1.0929 - val_acc: 0.6833\n",
            "Epoch 5/10\n",
            "60000/60000 [==============================] - 2s 32us/step - loss: 0.9764 - acc: 0.6816 - val_loss: 0.8748 - val_acc: 0.6850\n",
            "Epoch 6/10\n",
            "60000/60000 [==============================] - 2s 29us/step - loss: 0.8105 - acc: 0.6892 - val_loss: 0.7612 - val_acc: 0.6907\n",
            "Epoch 7/10\n",
            "60000/60000 [==============================] - 2s 34us/step - loss: 0.7287 - acc: 0.6965 - val_loss: 0.7084 - val_acc: 0.6896\n",
            "Epoch 8/10\n",
            "60000/60000 [==============================] - 2s 34us/step - loss: 0.6910 - acc: 0.7009 - val_loss: 0.6855 - val_acc: 0.7048\n",
            "Epoch 9/10\n",
            "60000/60000 [==============================] - 2s 34us/step - loss: 0.6707 - acc: 0.7070 - val_loss: 0.6724 - val_acc: 0.7092\n",
            "Epoch 10/10\n",
            "60000/60000 [==============================] - 2s 31us/step - loss: 0.6552 - acc: 0.7195 - val_loss: 0.6598 - val_acc: 0.7206\n",
            "Test loss: 0.6598356642723083\n",
            "Test accuracy: 0.7206\n"
          ],
          "name": "stdout"
        }
      ]
    },
    {
      "cell_type": "markdown",
      "metadata": {
        "id": "hM19cjk8KTL7",
        "colab_type": "text"
      },
      "source": [
        "#selu\n",
        "\n",
        "keras.activations.selu(x)\n",
        "\n",
        "Scaled Exponential Linear Unit (SELU).\n",
        "\n",
        "SELU is equal to: scale * elu(x, alpha), where alpha and scale are predefined constants. The values of alpha and scale are chosen so that the mean and variance of the inputs are preserved between two consecutive layers as long as the weights are initialized correctly (see lecun_normal initialization) and the number of inputs is \"large enough\" (see references for more information).\n",
        "\n",
        "##Arguments\n",
        "\n",
        "1. x: A tensor or variable to compute the activation function for.\n",
        "\n",
        "##Returns\n",
        "\n",
        "The scaled exponential unit activation: scale * elu(x, alpha).\n",
        "\n",
        "##Note\n",
        "\n",
        "1. To be used together with the initialization \"lecun_normal\".\n",
        "2. To be used together with the dropout variant \"AlphaDropout\"."
      ]
    },
    {
      "cell_type": "code",
      "metadata": {
        "id": "tqueXLpaKddp",
        "colab_type": "code",
        "colab": {
          "base_uri": "https://localhost:8080/",
          "height": 403
        },
        "outputId": "134ba3ad-9542-464e-d589-497fdd0054e6"
      },
      "source": [
        "# Build neural network\n",
        "model = models.Sequential()\n",
        "model.add(Dense(512, activation='selu', input_shape=(NUM_ROWS * NUM_COLS,)))\n",
        "model.add(Dense(256, activation='selu'))\n",
        "model.add(Dense(10, activation='softmax'))\n",
        "\n",
        "# Compile model\n",
        "model.compile(optimizer='rmsprop',\n",
        "              loss='categorical_crossentropy',\n",
        "              metrics=['accuracy'])\n",
        "\n",
        "# Train model\n",
        "model.fit(X_train, y_train,\n",
        "          batch_size=BATCH_SIZE,\n",
        "          epochs=EPOCHS,\n",
        "          verbose=1,\n",
        "          validation_data=(X_test, y_test))\n",
        "\n",
        "score = model.evaluate(X_test, y_test, verbose=0)\n",
        "print('Test loss:', score[0])\n",
        "print('Test accuracy:', score[1])\n",
        "activations['selu'] = score[1]"
      ],
      "execution_count": 19,
      "outputs": [
        {
          "output_type": "stream",
          "text": [
            "Train on 60000 samples, validate on 10000 samples\n",
            "Epoch 1/10\n",
            "60000/60000 [==============================] - 2s 38us/step - loss: 0.3331 - acc: 0.9002 - val_loss: 0.1676 - val_acc: 0.9463\n",
            "Epoch 2/10\n",
            "60000/60000 [==============================] - 2s 31us/step - loss: 0.1370 - acc: 0.9583 - val_loss: 0.1141 - val_acc: 0.9651\n",
            "Epoch 3/10\n",
            "60000/60000 [==============================] - 2s 34us/step - loss: 0.0937 - acc: 0.9714 - val_loss: 0.0918 - val_acc: 0.9709\n",
            "Epoch 4/10\n",
            "60000/60000 [==============================] - 2s 32us/step - loss: 0.0735 - acc: 0.9766 - val_loss: 0.0854 - val_acc: 0.9744\n",
            "Epoch 5/10\n",
            "60000/60000 [==============================] - 2s 32us/step - loss: 0.0601 - acc: 0.9810 - val_loss: 0.0866 - val_acc: 0.9735\n",
            "Epoch 6/10\n",
            "60000/60000 [==============================] - 2s 34us/step - loss: 0.0487 - acc: 0.9840 - val_loss: 0.0968 - val_acc: 0.9727\n",
            "Epoch 7/10\n",
            "60000/60000 [==============================] - 2s 35us/step - loss: 0.0410 - acc: 0.9862 - val_loss: 0.0958 - val_acc: 0.9752\n",
            "Epoch 8/10\n",
            "60000/60000 [==============================] - 2s 33us/step - loss: 0.0358 - acc: 0.9881 - val_loss: 0.0903 - val_acc: 0.9778\n",
            "Epoch 9/10\n",
            "60000/60000 [==============================] - 2s 31us/step - loss: 0.0298 - acc: 0.9904 - val_loss: 0.1003 - val_acc: 0.9745\n",
            "Epoch 10/10\n",
            "60000/60000 [==============================] - 2s 31us/step - loss: 0.0264 - acc: 0.9913 - val_loss: 0.0978 - val_acc: 0.9777\n",
            "Test loss: 0.09781906551843385\n",
            "Test accuracy: 0.9777\n"
          ],
          "name": "stdout"
        }
      ]
    },
    {
      "cell_type": "markdown",
      "metadata": {
        "id": "8jh93vQKKjws",
        "colab_type": "text"
      },
      "source": [
        "#softplus\n",
        "\n",
        "keras.activations.softplus(x)\n",
        "\n",
        "Softplus activation function.\n",
        "\n",
        "##Arguments\n",
        "\n",
        "1. x: Input tensor.\n",
        "\n",
        "##Returns\n",
        "\n",
        "1. The softplus activation: log(exp(x) + 1)."
      ]
    },
    {
      "cell_type": "code",
      "metadata": {
        "id": "msVEMJUtKwTC",
        "colab_type": "code",
        "colab": {
          "base_uri": "https://localhost:8080/",
          "height": 403
        },
        "outputId": "88317a19-da6a-4972-cad4-830d575432c0"
      },
      "source": [
        "# Build neural network\n",
        "model = models.Sequential()\n",
        "model.add(Dense(512, activation='softplus', input_shape=(NUM_ROWS * NUM_COLS,)))\n",
        "model.add(Dense(256, activation='softplus'))\n",
        "model.add(Dense(10, activation='softmax'))\n",
        "\n",
        "# Compile model\n",
        "model.compile(optimizer='rmsprop',\n",
        "              loss='categorical_crossentropy',\n",
        "              metrics=['accuracy'])\n",
        "\n",
        "# Train model\n",
        "model.fit(X_train, y_train,\n",
        "          batch_size=BATCH_SIZE,\n",
        "          epochs=EPOCHS,\n",
        "          verbose=1,\n",
        "          validation_data=(X_test, y_test))\n",
        "\n",
        "score = model.evaluate(X_test, y_test, verbose=0)\n",
        "print('Test loss:', score[0])\n",
        "print('Test accuracy:', score[1])\n",
        "activations['softplus'] = score[1]"
      ],
      "execution_count": 20,
      "outputs": [
        {
          "output_type": "stream",
          "text": [
            "Train on 60000 samples, validate on 10000 samples\n",
            "Epoch 1/10\n",
            "60000/60000 [==============================] - 2s 35us/step - loss: 0.4559 - acc: 0.8604 - val_loss: 0.2184 - val_acc: 0.9332\n",
            "Epoch 2/10\n",
            "60000/60000 [==============================] - 2s 30us/step - loss: 0.1742 - acc: 0.9465 - val_loss: 0.1506 - val_acc: 0.9487\n",
            "Epoch 3/10\n",
            "60000/60000 [==============================] - 2s 30us/step - loss: 0.1132 - acc: 0.9647 - val_loss: 0.0956 - val_acc: 0.9695\n",
            "Epoch 4/10\n",
            "60000/60000 [==============================] - 2s 29us/step - loss: 0.0833 - acc: 0.9741 - val_loss: 0.1012 - val_acc: 0.9690\n",
            "Epoch 5/10\n",
            "60000/60000 [==============================] - 2s 32us/step - loss: 0.0660 - acc: 0.9794 - val_loss: 0.0881 - val_acc: 0.9716\n",
            "Epoch 6/10\n",
            "60000/60000 [==============================] - 2s 30us/step - loss: 0.0530 - acc: 0.9835 - val_loss: 0.0826 - val_acc: 0.9741\n",
            "Epoch 7/10\n",
            "60000/60000 [==============================] - 2s 28us/step - loss: 0.0435 - acc: 0.9864 - val_loss: 0.0707 - val_acc: 0.9797\n",
            "Epoch 8/10\n",
            "60000/60000 [==============================] - 2s 28us/step - loss: 0.0372 - acc: 0.9882 - val_loss: 0.0648 - val_acc: 0.9820\n",
            "Epoch 9/10\n",
            "60000/60000 [==============================] - 2s 28us/step - loss: 0.0295 - acc: 0.9910 - val_loss: 0.0749 - val_acc: 0.9800\n",
            "Epoch 10/10\n",
            "60000/60000 [==============================] - 2s 30us/step - loss: 0.0261 - acc: 0.9915 - val_loss: 0.0737 - val_acc: 0.9819\n",
            "Test loss: 0.07372846457552441\n",
            "Test accuracy: 0.9819\n"
          ],
          "name": "stdout"
        }
      ]
    },
    {
      "cell_type": "markdown",
      "metadata": {
        "id": "5us_flAJK4lP",
        "colab_type": "text"
      },
      "source": [
        "#softsign\n",
        "\n",
        "keras.activations.softsign(x)\n",
        "\n",
        "##Softsign activation function.\n",
        "\n",
        "##Arguments\n",
        "\n",
        "1. x: Input tensor.\n",
        "\n",
        "##Returns\n",
        "\n",
        "1. The softsign activation: x / (abs(x) + 1)."
      ]
    },
    {
      "cell_type": "code",
      "metadata": {
        "id": "YxsE4bDzK_Wo",
        "colab_type": "code",
        "colab": {
          "base_uri": "https://localhost:8080/",
          "height": 403
        },
        "outputId": "6bed8de8-7756-4f61-ccba-e9a22f0b9463"
      },
      "source": [
        "# Build neural network\n",
        "model = models.Sequential()\n",
        "model.add(Dense(512, activation='softsign', input_shape=(NUM_ROWS * NUM_COLS,)))\n",
        "model.add(Dense(256, activation='softsign'))\n",
        "model.add(Dense(10, activation='softmax'))\n",
        "\n",
        "# Compile model\n",
        "model.compile(optimizer='rmsprop',\n",
        "              loss='categorical_crossentropy',\n",
        "              metrics=['accuracy'])\n",
        "\n",
        "# Train model\n",
        "model.fit(X_train, y_train,\n",
        "          batch_size=BATCH_SIZE,\n",
        "          epochs=EPOCHS,\n",
        "          verbose=1,\n",
        "          validation_data=(X_test, y_test))\n",
        "\n",
        "score = model.evaluate(X_test, y_test, verbose=0)\n",
        "print('Test loss:', score[0])\n",
        "print('Test accuracy:', score[1])\n",
        "activations['softsign'] = score[1]"
      ],
      "execution_count": 21,
      "outputs": [
        {
          "output_type": "stream",
          "text": [
            "Train on 60000 samples, validate on 10000 samples\n",
            "Epoch 1/10\n",
            "60000/60000 [==============================] - 2s 35us/step - loss: 0.2946 - acc: 0.9129 - val_loss: 0.1648 - val_acc: 0.9509\n",
            "Epoch 2/10\n",
            "60000/60000 [==============================] - 2s 31us/step - loss: 0.1448 - acc: 0.9560 - val_loss: 0.1166 - val_acc: 0.9653\n",
            "Epoch 3/10\n",
            "60000/60000 [==============================] - 2s 30us/step - loss: 0.0995 - acc: 0.9696 - val_loss: 0.1050 - val_acc: 0.9686\n",
            "Epoch 4/10\n",
            "60000/60000 [==============================] - 2s 27us/step - loss: 0.0735 - acc: 0.9776 - val_loss: 0.0815 - val_acc: 0.9750\n",
            "Epoch 5/10\n",
            "60000/60000 [==============================] - 2s 32us/step - loss: 0.0564 - acc: 0.9826 - val_loss: 0.0712 - val_acc: 0.9779\n",
            "Epoch 6/10\n",
            "60000/60000 [==============================] - 2s 29us/step - loss: 0.0439 - acc: 0.9867 - val_loss: 0.0685 - val_acc: 0.9785\n",
            "Epoch 7/10\n",
            "60000/60000 [==============================] - 2s 29us/step - loss: 0.0349 - acc: 0.9897 - val_loss: 0.0697 - val_acc: 0.9775\n",
            "Epoch 8/10\n",
            "60000/60000 [==============================] - 2s 33us/step - loss: 0.0274 - acc: 0.9919 - val_loss: 0.0686 - val_acc: 0.9785\n",
            "Epoch 9/10\n",
            "60000/60000 [==============================] - 2s 31us/step - loss: 0.0217 - acc: 0.9937 - val_loss: 0.0737 - val_acc: 0.9781\n",
            "Epoch 10/10\n",
            "60000/60000 [==============================] - 2s 31us/step - loss: 0.0171 - acc: 0.9950 - val_loss: 0.0775 - val_acc: 0.9776\n",
            "Test loss: 0.07749424867230119\n",
            "Test accuracy: 0.9776\n"
          ],
          "name": "stdout"
        }
      ]
    },
    {
      "cell_type": "markdown",
      "metadata": {
        "id": "q1frWDGbLIPD",
        "colab_type": "text"
      },
      "source": [
        "#relu\n",
        "\n",
        "keras.activations.relu(x, alpha=0.0, max_value=None, threshold=0.0)\n",
        "\n",
        "##Rectified Linear Unit.\n",
        "\n",
        "With default values, it returns element-wise max(x, 0).\n",
        "\n",
        "Otherwise, it follows: f(x) = max_value for x >= max_value, f(x) = x for threshold <= x < max_value, f(x) = alpha * (x - threshold) otherwise.\n",
        "\n",
        "##Arguments\n",
        "\n",
        "1. x: Input tensor.\n",
        "2. alpha: float. Slope of the negative part. Defaults to zero.\n",
        "3. max_value: float. Saturation threshold.\n",
        "4. threshold: float. Threshold value for thresholded activation.\n",
        "\n",
        "##Returns\n",
        "\n",
        "A tensor."
      ]
    },
    {
      "cell_type": "code",
      "metadata": {
        "id": "W-yB_H-6LEmI",
        "colab_type": "code",
        "colab": {
          "base_uri": "https://localhost:8080/",
          "height": 403
        },
        "outputId": "820c0494-87f3-4b70-fe2e-22d68477ba8b"
      },
      "source": [
        "# Build neural network\n",
        "model = models.Sequential()\n",
        "model.add(Dense(512, activation='relu', input_shape=(NUM_ROWS * NUM_COLS,)))\n",
        "model.add(Dense(256, activation='relu'))\n",
        "model.add(Dense(10, activation='softmax'))\n",
        "\n",
        "# Compile model\n",
        "model.compile(optimizer='rmsprop',\n",
        "              loss='categorical_crossentropy',\n",
        "              metrics=['accuracy'])\n",
        "\n",
        "# Train model\n",
        "model.fit(X_train, y_train,\n",
        "          batch_size=BATCH_SIZE,\n",
        "          epochs=EPOCHS,\n",
        "          verbose=1,\n",
        "          validation_data=(X_test, y_test))\n",
        "\n",
        "score = model.evaluate(X_test, y_test, verbose=0)\n",
        "print('Test loss:', score[0])\n",
        "print('Test accuracy:', score[1])\n",
        "activations['relu'] = score[1]"
      ],
      "execution_count": 22,
      "outputs": [
        {
          "output_type": "stream",
          "text": [
            "Train on 60000 samples, validate on 10000 samples\n",
            "Epoch 1/10\n",
            "60000/60000 [==============================] - 2s 37us/step - loss: 0.2245 - acc: 0.9303 - val_loss: 0.1006 - val_acc: 0.9699\n",
            "Epoch 2/10\n",
            "60000/60000 [==============================] - 2s 29us/step - loss: 0.0840 - acc: 0.9746 - val_loss: 0.0778 - val_acc: 0.9767\n",
            "Epoch 3/10\n",
            "60000/60000 [==============================] - 2s 30us/step - loss: 0.0544 - acc: 0.9834 - val_loss: 0.0694 - val_acc: 0.9801\n",
            "Epoch 4/10\n",
            "60000/60000 [==============================] - 2s 33us/step - loss: 0.0405 - acc: 0.9871 - val_loss: 0.0749 - val_acc: 0.9800\n",
            "Epoch 5/10\n",
            "60000/60000 [==============================] - 2s 33us/step - loss: 0.0294 - acc: 0.9909 - val_loss: 0.0691 - val_acc: 0.9809\n",
            "Epoch 6/10\n",
            "60000/60000 [==============================] - 2s 29us/step - loss: 0.0228 - acc: 0.9925 - val_loss: 0.0835 - val_acc: 0.9786\n",
            "Epoch 7/10\n",
            "60000/60000 [==============================] - 2s 31us/step - loss: 0.0177 - acc: 0.9945 - val_loss: 0.0880 - val_acc: 0.9785\n",
            "Epoch 8/10\n",
            "60000/60000 [==============================] - 2s 34us/step - loss: 0.0156 - acc: 0.9953 - val_loss: 0.0937 - val_acc: 0.9799\n",
            "Epoch 9/10\n",
            "60000/60000 [==============================] - 2s 32us/step - loss: 0.0127 - acc: 0.9959 - val_loss: 0.1064 - val_acc: 0.9792\n",
            "Epoch 10/10\n",
            "60000/60000 [==============================] - 2s 33us/step - loss: 0.0109 - acc: 0.9966 - val_loss: 0.1080 - val_acc: 0.9809\n",
            "Test loss: 0.10798817734981986\n",
            "Test accuracy: 0.9809\n"
          ],
          "name": "stdout"
        }
      ]
    },
    {
      "cell_type": "markdown",
      "metadata": {
        "id": "qb6436cKLXyP",
        "colab_type": "text"
      },
      "source": [
        "#tanh\n",
        "\n",
        "keras.activations.tanh(x)\n",
        "\n",
        "##Hyperbolic tangent activation function.\n",
        "\n",
        "##Arguments\n",
        "\n",
        "1. x: Input tensor.\n",
        "\n",
        "##Returns\n",
        "\n",
        "1. The hyperbolic activation: tanh(x) = (exp(x) - exp(-x)) / (exp(x) + exp(-x))"
      ]
    },
    {
      "cell_type": "code",
      "metadata": {
        "id": "2l_JVgdfLd_E",
        "colab_type": "code",
        "colab": {
          "base_uri": "https://localhost:8080/",
          "height": 403
        },
        "outputId": "81ca9ef5-13b1-4ebb-c918-c6c849c639d1"
      },
      "source": [
        "# Build neural network\n",
        "model = models.Sequential()\n",
        "model.add(Dense(512, activation='tanh', input_shape=(NUM_ROWS * NUM_COLS,)))\n",
        "model.add(Dense(256, activation='tanh'))\n",
        "model.add(Dense(10, activation='softmax'))\n",
        "\n",
        "# Compile model\n",
        "model.compile(optimizer='rmsprop',\n",
        "              loss='categorical_crossentropy',\n",
        "              metrics=['accuracy'])\n",
        "\n",
        "# Train model\n",
        "model.fit(X_train, y_train,\n",
        "          batch_size=BATCH_SIZE,\n",
        "          epochs=EPOCHS,\n",
        "          verbose=1,\n",
        "          validation_data=(X_test, y_test))\n",
        "\n",
        "score = model.evaluate(X_test, y_test, verbose=0)\n",
        "print('Test loss:', score[0])\n",
        "print('Test accuracy:', score[1])\n",
        "activations['tanh'] = score[1]"
      ],
      "execution_count": 23,
      "outputs": [
        {
          "output_type": "stream",
          "text": [
            "Train on 60000 samples, validate on 10000 samples\n",
            "Epoch 1/10\n",
            "60000/60000 [==============================] - 2s 38us/step - loss: 0.2949 - acc: 0.9107 - val_loss: 0.1484 - val_acc: 0.9560\n",
            "Epoch 2/10\n",
            "60000/60000 [==============================] - 2s 29us/step - loss: 0.1251 - acc: 0.9624 - val_loss: 0.1087 - val_acc: 0.9663\n",
            "Epoch 3/10\n",
            "60000/60000 [==============================] - 2s 30us/step - loss: 0.0818 - acc: 0.9752 - val_loss: 0.0866 - val_acc: 0.9726\n",
            "Epoch 4/10\n",
            "60000/60000 [==============================] - 2s 31us/step - loss: 0.0589 - acc: 0.9817 - val_loss: 0.0813 - val_acc: 0.9738\n",
            "Epoch 5/10\n",
            "60000/60000 [==============================] - 2s 28us/step - loss: 0.0433 - acc: 0.9865 - val_loss: 0.0701 - val_acc: 0.9763\n",
            "Epoch 6/10\n",
            "60000/60000 [==============================] - 2s 28us/step - loss: 0.0327 - acc: 0.9904 - val_loss: 0.0653 - val_acc: 0.9779\n",
            "Epoch 7/10\n",
            "60000/60000 [==============================] - 2s 27us/step - loss: 0.0237 - acc: 0.9930 - val_loss: 0.0652 - val_acc: 0.9794\n",
            "Epoch 8/10\n",
            "60000/60000 [==============================] - 2s 29us/step - loss: 0.0174 - acc: 0.9951 - val_loss: 0.0715 - val_acc: 0.9777\n",
            "Epoch 9/10\n",
            "60000/60000 [==============================] - 2s 30us/step - loss: 0.0124 - acc: 0.9967 - val_loss: 0.0651 - val_acc: 0.9803\n",
            "Epoch 10/10\n",
            "60000/60000 [==============================] - 2s 29us/step - loss: 0.0094 - acc: 0.9974 - val_loss: 0.0629 - val_acc: 0.9801\n",
            "Test loss: 0.06286928424297367\n",
            "Test accuracy: 0.9801\n"
          ],
          "name": "stdout"
        }
      ]
    },
    {
      "cell_type": "markdown",
      "metadata": {
        "id": "JwPdvFC3LmME",
        "colab_type": "text"
      },
      "source": [
        "#sigmoid\n",
        "\n",
        "keras.activations.sigmoid(x)\n",
        "\n",
        "##Sigmoid activation function.\n",
        "\n",
        "##Arguments\n",
        "\n",
        "1. x: Input tensor.\n",
        "\n",
        "##Returns\n",
        "\n",
        "1. The sigmoid activation: 1 / (1 + exp(-x))."
      ]
    },
    {
      "cell_type": "code",
      "metadata": {
        "id": "chkhKBK4LtS9",
        "colab_type": "code",
        "colab": {
          "base_uri": "https://localhost:8080/",
          "height": 403
        },
        "outputId": "b59b3eef-ffa0-42d8-d549-6c05359c66b4"
      },
      "source": [
        "# Build neural network\n",
        "model = models.Sequential()\n",
        "model.add(Dense(512, activation='sigmoid', input_shape=(NUM_ROWS * NUM_COLS,)))\n",
        "model.add(Dense(256, activation='sigmoid'))\n",
        "model.add(Dense(10, activation='softmax'))\n",
        "\n",
        "# Compile model\n",
        "model.compile(optimizer='rmsprop',\n",
        "              loss='categorical_crossentropy',\n",
        "              metrics=['accuracy'])\n",
        "\n",
        "# Train model\n",
        "model.fit(X_train, y_train,\n",
        "          batch_size=BATCH_SIZE,\n",
        "          epochs=EPOCHS,\n",
        "          verbose=1,\n",
        "          validation_data=(X_test, y_test))\n",
        "\n",
        "score = model.evaluate(X_test, y_test, verbose=0)\n",
        "print('Test loss:', score[0])\n",
        "print('Test accuracy:', score[1])\n",
        "activations['sigmoid'] = score[1]"
      ],
      "execution_count": 24,
      "outputs": [
        {
          "output_type": "stream",
          "text": [
            "Train on 60000 samples, validate on 10000 samples\n",
            "Epoch 1/10\n",
            "60000/60000 [==============================] - 2s 36us/step - loss: 0.5008 - acc: 0.8583 - val_loss: 0.2657 - val_acc: 0.9171\n",
            "Epoch 2/10\n",
            "60000/60000 [==============================] - 2s 28us/step - loss: 0.2191 - acc: 0.9341 - val_loss: 0.1769 - val_acc: 0.9455\n",
            "Epoch 3/10\n",
            "60000/60000 [==============================] - 2s 33us/step - loss: 0.1584 - acc: 0.9520 - val_loss: 0.1337 - val_acc: 0.9586\n",
            "Epoch 4/10\n",
            "60000/60000 [==============================] - 2s 28us/step - loss: 0.1201 - acc: 0.9635 - val_loss: 0.1185 - val_acc: 0.9642\n",
            "Epoch 5/10\n",
            "60000/60000 [==============================] - 2s 30us/step - loss: 0.0946 - acc: 0.9719 - val_loss: 0.0952 - val_acc: 0.9712\n",
            "Epoch 6/10\n",
            "60000/60000 [==============================] - 2s 31us/step - loss: 0.0763 - acc: 0.9773 - val_loss: 0.0846 - val_acc: 0.9734\n",
            "Epoch 7/10\n",
            "60000/60000 [==============================] - 2s 31us/step - loss: 0.0637 - acc: 0.9804 - val_loss: 0.0845 - val_acc: 0.9741\n",
            "Epoch 8/10\n",
            "60000/60000 [==============================] - 2s 30us/step - loss: 0.0526 - acc: 0.9833 - val_loss: 0.0851 - val_acc: 0.9737\n",
            "Epoch 9/10\n",
            "60000/60000 [==============================] - 2s 32us/step - loss: 0.0439 - acc: 0.9866 - val_loss: 0.0729 - val_acc: 0.9789\n",
            "Epoch 10/10\n",
            "60000/60000 [==============================] - 2s 30us/step - loss: 0.0374 - acc: 0.9887 - val_loss: 0.0682 - val_acc: 0.9795\n",
            "Test loss: 0.06816018893111031\n",
            "Test accuracy: 0.9795\n"
          ],
          "name": "stdout"
        }
      ]
    },
    {
      "cell_type": "markdown",
      "metadata": {
        "id": "FDSa6h2iL016",
        "colab_type": "text"
      },
      "source": [
        "#hard_sigmoid\n",
        "\n",
        "keras.activations.hard_sigmoid(x)\n",
        "\n",
        "##Hard sigmoid activation function.\n",
        "\n",
        "Faster to compute than sigmoid activation.\n",
        "\n",
        "##Arguments\n",
        "\n",
        "1. x: Input tensor.\n",
        "\n",
        "##Returns\n",
        "\n",
        "1. Hard sigmoid activation:\n",
        "\n",
        "```\n",
        "0 if x < -2.5\n",
        "1 if x > 2.5\n",
        "0.2 * x + 0.5 if -2.5 <= x <= 2.5.\n",
        "```"
      ]
    },
    {
      "cell_type": "code",
      "metadata": {
        "id": "VPIE0vA2MIY0",
        "colab_type": "code",
        "colab": {
          "base_uri": "https://localhost:8080/",
          "height": 403
        },
        "outputId": "a0533f64-90fd-4dc2-855b-5705265c64fd"
      },
      "source": [
        "# Build neural network\n",
        "model = models.Sequential()\n",
        "model.add(Dense(512, activation='hard_sigmoid', input_shape=(NUM_ROWS * NUM_COLS,)))\n",
        "model.add(Dense(256, activation='hard_sigmoid'))\n",
        "model.add(Dense(10, activation='softmax'))\n",
        "\n",
        "# Compile model\n",
        "model.compile(optimizer='rmsprop',\n",
        "              loss='categorical_crossentropy',\n",
        "              metrics=['accuracy'])\n",
        "\n",
        "# Train model\n",
        "model.fit(X_train, y_train,\n",
        "          batch_size=BATCH_SIZE,\n",
        "          epochs=EPOCHS,\n",
        "          verbose=1,\n",
        "          validation_data=(X_test, y_test))\n",
        "\n",
        "score = model.evaluate(X_test, y_test, verbose=0)\n",
        "print('Test loss:', score[0])\n",
        "print('Test accuracy:', score[1])\n",
        "activations['hard_sigmoid'] = score[1]"
      ],
      "execution_count": 25,
      "outputs": [
        {
          "output_type": "stream",
          "text": [
            "Train on 60000 samples, validate on 10000 samples\n",
            "Epoch 1/10\n",
            "60000/60000 [==============================] - 2s 39us/step - loss: 0.5027 - acc: 0.8548 - val_loss: 0.2447 - val_acc: 0.9266\n",
            "Epoch 2/10\n",
            "60000/60000 [==============================] - 2s 31us/step - loss: 0.2120 - acc: 0.9368 - val_loss: 0.1697 - val_acc: 0.9482\n",
            "Epoch 3/10\n",
            "60000/60000 [==============================] - 2s 31us/step - loss: 0.1481 - acc: 0.9557 - val_loss: 0.1386 - val_acc: 0.9587\n",
            "Epoch 4/10\n",
            "60000/60000 [==============================] - 2s 29us/step - loss: 0.1105 - acc: 0.9667 - val_loss: 0.1037 - val_acc: 0.9684\n",
            "Epoch 5/10\n",
            "60000/60000 [==============================] - 2s 32us/step - loss: 0.0859 - acc: 0.9739 - val_loss: 0.0901 - val_acc: 0.9718\n",
            "Epoch 6/10\n",
            "60000/60000 [==============================] - 2s 35us/step - loss: 0.0689 - acc: 0.9791 - val_loss: 0.0798 - val_acc: 0.9756\n",
            "Epoch 7/10\n",
            "60000/60000 [==============================] - 2s 32us/step - loss: 0.0565 - acc: 0.9828 - val_loss: 0.0762 - val_acc: 0.9769\n",
            "Epoch 8/10\n",
            "60000/60000 [==============================] - 2s 35us/step - loss: 0.0455 - acc: 0.9862 - val_loss: 0.0801 - val_acc: 0.9748\n",
            "Epoch 9/10\n",
            "60000/60000 [==============================] - 2s 34us/step - loss: 0.0374 - acc: 0.9887 - val_loss: 0.0744 - val_acc: 0.9778\n",
            "Epoch 10/10\n",
            "60000/60000 [==============================] - 2s 32us/step - loss: 0.0303 - acc: 0.9909 - val_loss: 0.0754 - val_acc: 0.9769\n",
            "Test loss: 0.07537871927518863\n",
            "Test accuracy: 0.9769\n"
          ],
          "name": "stdout"
        }
      ]
    },
    {
      "cell_type": "markdown",
      "metadata": {
        "id": "nkEibscrMTJ7",
        "colab_type": "text"
      },
      "source": [
        "#exponential\n",
        "\n",
        "keras.activations.exponential(x)\n",
        "\n",
        "Exponential (base e) activation function.\n",
        "\n",
        "##Arguments\n",
        "\n",
        "1. x: Input tensor.\n",
        "\n",
        "##Returns\n",
        "\n",
        "1. Exponential activation: exp(x)."
      ]
    },
    {
      "cell_type": "code",
      "metadata": {
        "id": "Z03_Vua1MY82",
        "colab_type": "code",
        "colab": {
          "base_uri": "https://localhost:8080/",
          "height": 403
        },
        "outputId": "898c77ce-84b6-4df3-bbc6-e843e63831a9"
      },
      "source": [
        "# Build neural network\n",
        "model = models.Sequential()\n",
        "model.add(Dense(512, activation='exponential', input_shape=(NUM_ROWS * NUM_COLS,)))\n",
        "model.add(Dense(256, activation='exponential'))\n",
        "model.add(Dense(10, activation='softmax'))\n",
        "\n",
        "# Compile model\n",
        "model.compile(optimizer='rmsprop',\n",
        "              loss='categorical_crossentropy',\n",
        "              metrics=['accuracy'])\n",
        "\n",
        "# Train model\n",
        "model.fit(X_train, y_train,\n",
        "          batch_size=BATCH_SIZE,\n",
        "          epochs=EPOCHS,\n",
        "          verbose=1,\n",
        "          validation_data=(X_test, y_test))\n",
        "\n",
        "score = model.evaluate(X_test, y_test, verbose=0)\n",
        "print('Test loss:', score[0])\n",
        "print('Test accuracy:', score[1])\n",
        "activations['exponential'] = score[1]"
      ],
      "execution_count": 26,
      "outputs": [
        {
          "output_type": "stream",
          "text": [
            "Train on 60000 samples, validate on 10000 samples\n",
            "Epoch 1/10\n",
            "60000/60000 [==============================] - 2s 40us/step - loss: 14.4537 - acc: 0.1023 - val_loss: 14.4902 - val_acc: 0.1010\n",
            "Epoch 2/10\n",
            "60000/60000 [==============================] - 2s 28us/step - loss: 14.4711 - acc: 0.1022 - val_loss: 14.4902 - val_acc: 0.1010\n",
            "Epoch 3/10\n",
            "60000/60000 [==============================] - 2s 28us/step - loss: 14.4711 - acc: 0.1022 - val_loss: 14.4902 - val_acc: 0.1010\n",
            "Epoch 4/10\n",
            "60000/60000 [==============================] - 2s 29us/step - loss: 14.4711 - acc: 0.1022 - val_loss: 14.4902 - val_acc: 0.1010\n",
            "Epoch 5/10\n",
            "60000/60000 [==============================] - 2s 28us/step - loss: 14.4711 - acc: 0.1022 - val_loss: 14.4902 - val_acc: 0.1010\n",
            "Epoch 6/10\n",
            "60000/60000 [==============================] - 2s 31us/step - loss: 14.4711 - acc: 0.1022 - val_loss: 14.4902 - val_acc: 0.1010\n",
            "Epoch 7/10\n",
            "60000/60000 [==============================] - 2s 31us/step - loss: 14.4711 - acc: 0.1022 - val_loss: 14.4902 - val_acc: 0.1010\n",
            "Epoch 8/10\n",
            "60000/60000 [==============================] - 2s 30us/step - loss: 14.4711 - acc: 0.1022 - val_loss: 14.4902 - val_acc: 0.1010\n",
            "Epoch 9/10\n",
            "60000/60000 [==============================] - 2s 30us/step - loss: 14.4711 - acc: 0.1022 - val_loss: 14.4902 - val_acc: 0.1010\n",
            "Epoch 10/10\n",
            "60000/60000 [==============================] - 2s 28us/step - loss: 14.4711 - acc: 0.1022 - val_loss: 14.4902 - val_acc: 0.1010\n",
            "Test loss: 14.490167527770996\n",
            "Test accuracy: 0.101\n"
          ],
          "name": "stdout"
        }
      ]
    },
    {
      "cell_type": "markdown",
      "metadata": {
        "id": "twHrIcibMfqj",
        "colab_type": "text"
      },
      "source": [
        "#linear\n",
        "\n",
        "keras.activations.linear(x)\n",
        "\n",
        "Linear (i.e. identity) activation function.\n",
        "\n",
        "##Arguments\n",
        "\n",
        "1. x: Input tensor.\n",
        "\n",
        "##Returns\n",
        "\n",
        "Input tensor, unchanged."
      ]
    },
    {
      "cell_type": "code",
      "metadata": {
        "id": "X4yIoO3RMk-n",
        "colab_type": "code",
        "colab": {
          "base_uri": "https://localhost:8080/",
          "height": 403
        },
        "outputId": "782646e5-dd93-4b2d-bac8-4d7eeccd5e66"
      },
      "source": [
        "# Build neural network\n",
        "model = models.Sequential()\n",
        "model.add(Dense(512, activation='linear', input_shape=(NUM_ROWS * NUM_COLS,)))\n",
        "model.add(Dense(256, activation='linear'))\n",
        "model.add(Dense(10, activation='softmax'))\n",
        "\n",
        "# Compile model\n",
        "model.compile(optimizer='rmsprop',\n",
        "              loss='categorical_crossentropy',\n",
        "              metrics=['accuracy'])\n",
        "\n",
        "# Train model\n",
        "model.fit(X_train, y_train,\n",
        "          batch_size=BATCH_SIZE,\n",
        "          epochs=EPOCHS,\n",
        "          verbose=1,\n",
        "          validation_data=(X_test, y_test))\n",
        "\n",
        "score = model.evaluate(X_test, y_test, verbose=0)\n",
        "print('Test loss:', score[0])\n",
        "print('Test accuracy:', score[1])\n",
        "activations['linear'] = score[1]"
      ],
      "execution_count": 27,
      "outputs": [
        {
          "output_type": "stream",
          "text": [
            "Train on 60000 samples, validate on 10000 samples\n",
            "Epoch 1/10\n",
            "60000/60000 [==============================] - 2s 38us/step - loss: 0.4283 - acc: 0.8758 - val_loss: 0.3924 - val_acc: 0.8905\n",
            "Epoch 2/10\n",
            "60000/60000 [==============================] - 2s 30us/step - loss: 0.3447 - acc: 0.9028 - val_loss: 0.3183 - val_acc: 0.9113\n",
            "Epoch 3/10\n",
            "60000/60000 [==============================] - 2s 28us/step - loss: 0.3217 - acc: 0.9091 - val_loss: 0.3717 - val_acc: 0.8963\n",
            "Epoch 4/10\n",
            "60000/60000 [==============================] - 2s 33us/step - loss: 0.3080 - acc: 0.9133 - val_loss: 0.2937 - val_acc: 0.9198\n",
            "Epoch 5/10\n",
            "60000/60000 [==============================] - 2s 29us/step - loss: 0.2994 - acc: 0.9153 - val_loss: 0.3169 - val_acc: 0.9073\n",
            "Epoch 6/10\n",
            "60000/60000 [==============================] - 2s 31us/step - loss: 0.2941 - acc: 0.9177 - val_loss: 0.3071 - val_acc: 0.9131\n",
            "Epoch 7/10\n",
            "60000/60000 [==============================] - 2s 30us/step - loss: 0.2884 - acc: 0.9188 - val_loss: 0.2879 - val_acc: 0.9216\n",
            "Epoch 8/10\n",
            "60000/60000 [==============================] - 2s 31us/step - loss: 0.2854 - acc: 0.9208 - val_loss: 0.2896 - val_acc: 0.9195\n",
            "Epoch 9/10\n",
            "60000/60000 [==============================] - 2s 28us/step - loss: 0.2810 - acc: 0.9217 - val_loss: 0.3051 - val_acc: 0.9127\n",
            "Epoch 10/10\n",
            "60000/60000 [==============================] - 2s 32us/step - loss: 0.2796 - acc: 0.9226 - val_loss: 0.3028 - val_acc: 0.9141\n",
            "Test loss: 0.30278347080945966\n",
            "Test accuracy: 0.9141\n"
          ],
          "name": "stdout"
        }
      ]
    },
    {
      "cell_type": "markdown",
      "metadata": {
        "id": "1OyPjtogMtdG",
        "colab_type": "text"
      },
      "source": [
        "#LeakyReLU\n",
        "\n",
        "keras.layers.LeakyReLU(alpha=0.3)\n",
        "\n",
        "Leaky version of a Rectified Linear Unit.\n",
        "\n",
        "It allows a small gradient when the unit is not active: \n",
        "```\n",
        "f(x) = alpha * x for x < 0\n",
        "f(x) = x for x >= 0.\n",
        "```\n",
        "\n",
        "##Input shape\n",
        "\n",
        "Arbitrary. Use the keyword argument input_shape (tuple of integers, does not include the samples axis) when using this layer as the first layer in a model.\n",
        "\n",
        "##Output shape\n",
        "\n",
        "Same shape as the input.\n",
        "\n",
        "##Arguments\n",
        "\n",
        "alpha: float >= 0. Negative slope coefficient."
      ]
    },
    {
      "cell_type": "code",
      "metadata": {
        "id": "erjq0UrxNRum",
        "colab_type": "code",
        "colab": {
          "base_uri": "https://localhost:8080/",
          "height": 457
        },
        "outputId": "e53ec090-b623-42da-990f-3c05ec8b9756"
      },
      "source": [
        "# Build neural network\n",
        "model = models.Sequential()\n",
        "model.add(Dense(512, activation=keras.layers.LeakyReLU(alpha=0.3), input_shape=(NUM_ROWS * NUM_COLS,)))\n",
        "model.add(Dense(256, activation=keras.layers.LeakyReLU(alpha=0.3)))\n",
        "model.add(Dense(10, activation='softmax'))\n",
        "\n",
        "# Compile model\n",
        "model.compile(optimizer='rmsprop',\n",
        "              loss='categorical_crossentropy',\n",
        "              metrics=['accuracy'])\n",
        "\n",
        "# Train model\n",
        "model.fit(X_train, y_train,\n",
        "          batch_size=BATCH_SIZE,\n",
        "          epochs=EPOCHS,\n",
        "          verbose=1,\n",
        "          validation_data=(X_test, y_test))\n",
        "\n",
        "score = model.evaluate(X_test, y_test, verbose=0)\n",
        "print('Test loss:', score[0])\n",
        "print('Test accuracy:', score[1])\n",
        "activations['LeakyReLU'] = score[1]"
      ],
      "execution_count": 28,
      "outputs": [
        {
          "output_type": "stream",
          "text": [
            "/usr/local/lib/python3.6/dist-packages/keras/activations.py:235: UserWarning: Do not pass a layer instance (such as LeakyReLU) as the activation argument of another layer. Instead, advanced activation layers should be used just like any other layer in a model.\n",
            "  identifier=identifier.__class__.__name__))\n"
          ],
          "name": "stderr"
        },
        {
          "output_type": "stream",
          "text": [
            "Train on 60000 samples, validate on 10000 samples\n",
            "Epoch 1/10\n",
            "60000/60000 [==============================] - 2s 41us/step - loss: 0.2637 - acc: 0.9205 - val_loss: 0.1555 - val_acc: 0.9533\n",
            "Epoch 2/10\n",
            "60000/60000 [==============================] - 2s 28us/step - loss: 0.1260 - acc: 0.9609 - val_loss: 0.1312 - val_acc: 0.9593\n",
            "Epoch 3/10\n",
            "60000/60000 [==============================] - 2s 31us/step - loss: 0.0942 - acc: 0.9712 - val_loss: 0.0977 - val_acc: 0.9708\n",
            "Epoch 4/10\n",
            "60000/60000 [==============================] - 2s 29us/step - loss: 0.0746 - acc: 0.9768 - val_loss: 0.0970 - val_acc: 0.9705\n",
            "Epoch 5/10\n",
            "60000/60000 [==============================] - 2s 28us/step - loss: 0.0630 - acc: 0.9803 - val_loss: 0.0893 - val_acc: 0.9740\n",
            "Epoch 6/10\n",
            "60000/60000 [==============================] - 2s 31us/step - loss: 0.0558 - acc: 0.9820 - val_loss: 0.0992 - val_acc: 0.9720\n",
            "Epoch 7/10\n",
            "60000/60000 [==============================] - 2s 32us/step - loss: 0.0482 - acc: 0.9846 - val_loss: 0.0873 - val_acc: 0.9758\n",
            "Epoch 8/10\n",
            "60000/60000 [==============================] - 2s 30us/step - loss: 0.0423 - acc: 0.9868 - val_loss: 0.1378 - val_acc: 0.9630\n",
            "Epoch 9/10\n",
            "60000/60000 [==============================] - 2s 30us/step - loss: 0.0387 - acc: 0.9878 - val_loss: 0.0998 - val_acc: 0.9732\n",
            "Epoch 10/10\n",
            "60000/60000 [==============================] - 2s 31us/step - loss: 0.0356 - acc: 0.9888 - val_loss: 0.0915 - val_acc: 0.9784\n",
            "Test loss: 0.09145918542880972\n",
            "Test accuracy: 0.9784\n"
          ],
          "name": "stdout"
        }
      ]
    },
    {
      "cell_type": "markdown",
      "metadata": {
        "id": "wcJBHILnNv8k",
        "colab_type": "text"
      },
      "source": [
        "#PReLU\n",
        "\n",
        "keras.layers.PReLU(alpha_initializer='zeros', alpha_regularizer=None, alpha_constraint=None, shared_axes=None)\n",
        "\n",
        "Parametric Rectified Linear Unit.\n",
        "\n",
        "It follows: f(x) = alpha * x for x < 0, f(x) = x for x >= 0, where alpha is a learned array with the same shape as x.\n",
        "\n",
        "##Input shape\n",
        "\n",
        "Arbitrary. Use the keyword argument input_shape (tuple of integers, does not include the samples axis) when using this layer as the first layer in a model.\n",
        "\n",
        "##Output shape\n",
        "\n",
        "Same shape as the input.\n",
        "\n",
        "##Arguments\n",
        "\n",
        "1. alpha_initializer: initializer function for the weights.\n",
        "2. alpha_regularizer: regularizer for the weights.\n",
        "3. alpha_constraint: constraint for the weights.\n",
        "4. shared_axes: the axes along which to share learnable parameters for the activation function. For example, if the incoming feature maps are from a 2D convolution with output shape (batch, height, width, channels), and you wish to share parameters across space so that each filter only has one set of parameters, set shared_axes=[1, 2]."
      ]
    },
    {
      "cell_type": "code",
      "metadata": {
        "id": "9sMj5qFNN7Xv",
        "colab_type": "code",
        "colab": {
          "base_uri": "https://localhost:8080/",
          "height": 457
        },
        "outputId": "145de351-c253-4ac1-c134-093a6372be7c"
      },
      "source": [
        "# Build neural network\n",
        "model = models.Sequential()\n",
        "model.add(Dense(512, activation=keras.layers.PReLU(alpha_initializer='zeros', alpha_regularizer=None, alpha_constraint=None, shared_axes=None)\n",
        ", input_shape=(NUM_ROWS * NUM_COLS,)))\n",
        "model.add(Dense(256, activation=keras.layers.PReLU(alpha_initializer='zeros', alpha_regularizer=None, alpha_constraint=None, shared_axes=None)\n",
        "))\n",
        "model.add(Dense(10, activation='softmax'))\n",
        "\n",
        "# Compile model\n",
        "model.compile(optimizer='rmsprop',\n",
        "              loss='categorical_crossentropy',\n",
        "              metrics=['accuracy'])\n",
        "\n",
        "# Train model\n",
        "model.fit(X_train, y_train,\n",
        "          batch_size=BATCH_SIZE,\n",
        "          epochs=EPOCHS,\n",
        "          verbose=1,\n",
        "          validation_data=(X_test, y_test))\n",
        "\n",
        "score = model.evaluate(X_test, y_test, verbose=0)\n",
        "print('Test loss:', score[0])\n",
        "print('Test accuracy:', score[1])\n",
        "activations['PReLU'] = score[1]"
      ],
      "execution_count": 29,
      "outputs": [
        {
          "output_type": "stream",
          "text": [
            "/usr/local/lib/python3.6/dist-packages/keras/activations.py:235: UserWarning: Do not pass a layer instance (such as PReLU) as the activation argument of another layer. Instead, advanced activation layers should be used just like any other layer in a model.\n",
            "  identifier=identifier.__class__.__name__))\n"
          ],
          "name": "stderr"
        },
        {
          "output_type": "stream",
          "text": [
            "Train on 60000 samples, validate on 10000 samples\n",
            "Epoch 1/10\n",
            "60000/60000 [==============================] - 3s 44us/step - loss: 0.2240 - acc: 0.9320 - val_loss: 0.1009 - val_acc: 0.9679\n",
            "Epoch 2/10\n",
            "60000/60000 [==============================] - 2s 33us/step - loss: 0.0836 - acc: 0.9737 - val_loss: 0.0932 - val_acc: 0.9717\n",
            "Epoch 3/10\n",
            "60000/60000 [==============================] - 2s 34us/step - loss: 0.0544 - acc: 0.9829 - val_loss: 0.0817 - val_acc: 0.9766\n",
            "Epoch 4/10\n",
            "60000/60000 [==============================] - 2s 31us/step - loss: 0.0378 - acc: 0.9885 - val_loss: 0.0717 - val_acc: 0.9783\n",
            "Epoch 5/10\n",
            "60000/60000 [==============================] - 2s 36us/step - loss: 0.0289 - acc: 0.9909 - val_loss: 0.0810 - val_acc: 0.9804\n",
            "Epoch 6/10\n",
            "60000/60000 [==============================] - 2s 34us/step - loss: 0.0224 - acc: 0.9930 - val_loss: 0.0837 - val_acc: 0.9807\n",
            "Epoch 7/10\n",
            "60000/60000 [==============================] - 2s 35us/step - loss: 0.0178 - acc: 0.9944 - val_loss: 0.0861 - val_acc: 0.9797\n",
            "Epoch 8/10\n",
            "60000/60000 [==============================] - 2s 32us/step - loss: 0.0149 - acc: 0.9953 - val_loss: 0.0993 - val_acc: 0.9777\n",
            "Epoch 9/10\n",
            "60000/60000 [==============================] - 2s 33us/step - loss: 0.0132 - acc: 0.9960 - val_loss: 0.0990 - val_acc: 0.9805\n",
            "Epoch 10/10\n",
            "60000/60000 [==============================] - 2s 31us/step - loss: 0.0108 - acc: 0.9966 - val_loss: 0.0893 - val_acc: 0.9834\n",
            "Test loss: 0.08927402956916121\n",
            "Test accuracy: 0.9834\n"
          ],
          "name": "stdout"
        }
      ]
    },
    {
      "cell_type": "markdown",
      "metadata": {
        "id": "5hZFbSZYOSCi",
        "colab_type": "text"
      },
      "source": [
        "#ELU\n",
        "\n",
        "keras.layers.ELU(alpha=1.0)\n",
        "\n",
        "Exponential Linear Unit.\n",
        "\n",
        "It follows: f(x) =  alpha * (exp(x) - 1.) for x < 0, f(x) = x for x >= 0.\n",
        "\n",
        "##Input shape\n",
        "\n",
        "Arbitrary. Use the keyword argument input_shape (tuple of integers, does not include the samples axis) when using this layer as the first layer in a model.\n",
        "\n",
        "##Output shape\n",
        "\n",
        "Same shape as the input.\n",
        "\n",
        "##Arguments\n",
        "\n",
        "1. alpha: scale for the negative factor."
      ]
    },
    {
      "cell_type": "code",
      "metadata": {
        "id": "rV_7KHrmOZEV",
        "colab_type": "code",
        "colab": {
          "base_uri": "https://localhost:8080/",
          "height": 457
        },
        "outputId": "ef5952e9-0f50-4655-ea1f-668d333a1933"
      },
      "source": [
        "# Build neural network\n",
        "model = models.Sequential()\n",
        "model.add(Dense(512, activation=keras.layers.ELU(alpha=1.0), input_shape=(NUM_ROWS * NUM_COLS,)))\n",
        "model.add(Dense(256, activation=keras.layers.ELU(alpha=1.0)))\n",
        "model.add(Dense(10, activation='softmax'))\n",
        "\n",
        "# Compile model\n",
        "model.compile(optimizer='rmsprop',\n",
        "              loss='categorical_crossentropy',\n",
        "              metrics=['accuracy'])\n",
        "\n",
        "# Train model\n",
        "model.fit(X_train, y_train,\n",
        "          batch_size=BATCH_SIZE,\n",
        "          epochs=EPOCHS,\n",
        "          verbose=1,\n",
        "          validation_data=(X_test, y_test))\n",
        "\n",
        "score = model.evaluate(X_test, y_test, verbose=0)\n",
        "print('Test loss:', score[0])\n",
        "print('Test accuracy:', score[1])\n",
        "activations['ELU'] = score[1]"
      ],
      "execution_count": 30,
      "outputs": [
        {
          "output_type": "stream",
          "text": [
            "/usr/local/lib/python3.6/dist-packages/keras/activations.py:235: UserWarning: Do not pass a layer instance (such as ELU) as the activation argument of another layer. Instead, advanced activation layers should be used just like any other layer in a model.\n",
            "  identifier=identifier.__class__.__name__))\n"
          ],
          "name": "stderr"
        },
        {
          "output_type": "stream",
          "text": [
            "Train on 60000 samples, validate on 10000 samples\n",
            "Epoch 1/10\n",
            "60000/60000 [==============================] - 2s 41us/step - loss: 0.2840 - acc: 0.9131 - val_loss: 0.1398 - val_acc: 0.9544\n",
            "Epoch 2/10\n",
            "60000/60000 [==============================] - 2s 28us/step - loss: 0.1188 - acc: 0.9628 - val_loss: 0.1016 - val_acc: 0.9683\n",
            "Epoch 3/10\n",
            "60000/60000 [==============================] - 2s 30us/step - loss: 0.0812 - acc: 0.9750 - val_loss: 0.1080 - val_acc: 0.9684\n",
            "Epoch 4/10\n",
            "60000/60000 [==============================] - 2s 33us/step - loss: 0.0639 - acc: 0.9797 - val_loss: 0.0804 - val_acc: 0.9766\n",
            "Epoch 5/10\n",
            "60000/60000 [==============================] - 2s 29us/step - loss: 0.0484 - acc: 0.9841 - val_loss: 0.0772 - val_acc: 0.9783\n",
            "Epoch 6/10\n",
            "60000/60000 [==============================] - 2s 30us/step - loss: 0.0398 - acc: 0.9870 - val_loss: 0.1015 - val_acc: 0.9731\n",
            "Epoch 7/10\n",
            "60000/60000 [==============================] - 2s 30us/step - loss: 0.0327 - acc: 0.9888 - val_loss: 0.0883 - val_acc: 0.9756\n",
            "Epoch 8/10\n",
            "60000/60000 [==============================] - 2s 32us/step - loss: 0.0274 - acc: 0.9910 - val_loss: 0.0766 - val_acc: 0.9784\n",
            "Epoch 9/10\n",
            "60000/60000 [==============================] - 2s 30us/step - loss: 0.0233 - acc: 0.9920 - val_loss: 0.0979 - val_acc: 0.9765\n",
            "Epoch 10/10\n",
            "60000/60000 [==============================] - 2s 38us/step - loss: 0.0195 - acc: 0.9939 - val_loss: 0.0899 - val_acc: 0.9800\n",
            "Test loss: 0.08988851977648153\n",
            "Test accuracy: 0.98\n"
          ],
          "name": "stdout"
        }
      ]
    },
    {
      "cell_type": "markdown",
      "metadata": {
        "id": "mMMit6nZOlXi",
        "colab_type": "text"
      },
      "source": [
        "#ThresholdedReLU\n",
        "\n",
        "keras.layers.ThresholdedReLU(theta=1.0)\n",
        "\n",
        "Thresholded Rectified Linear Unit.\n",
        "\n",
        "It follows: f(x) = x for x > theta, f(x) = 0 otherwise.\n",
        "\n",
        "##Input shape\n",
        "\n",
        "Arbitrary. Use the keyword argument input_shape (tuple of integers, does not include the samples axis) when using this layer as the first layer in a model.\n",
        "\n",
        "##Output shape\n",
        "\n",
        "Same shape as the input.\n",
        "\n",
        "##Arguments\n",
        "\n",
        "1. theta: float >= 0. Threshold location of activation."
      ]
    },
    {
      "cell_type": "code",
      "metadata": {
        "id": "jtN3bUOOOqN0",
        "colab_type": "code",
        "colab": {
          "base_uri": "https://localhost:8080/",
          "height": 457
        },
        "outputId": "964387ae-fb07-472d-b321-d851c41c29e1"
      },
      "source": [
        "# Build neural network\n",
        "model = models.Sequential()\n",
        "model.add(Dense(512, activation=keras.layers.ThresholdedReLU(theta=1.0), input_shape=(NUM_ROWS * NUM_COLS,)))\n",
        "model.add(Dense(256, activation=keras.layers.ThresholdedReLU(theta=1.0)))\n",
        "model.add(Dense(10, activation='softmax'))\n",
        "\n",
        "# Compile model\n",
        "model.compile(optimizer='rmsprop',\n",
        "              loss='categorical_crossentropy',\n",
        "              metrics=['accuracy'])\n",
        "\n",
        "# Train model\n",
        "model.fit(X_train, y_train,\n",
        "          batch_size=BATCH_SIZE,\n",
        "          epochs=EPOCHS,\n",
        "          verbose=1,\n",
        "          validation_data=(X_test, y_test))\n",
        "\n",
        "score = model.evaluate(X_test, y_test, verbose=0)\n",
        "print('Test loss:', score[0])\n",
        "print('Test accuracy:', score[1])\n",
        "activations['ThresholdedReLU'] = score[1]"
      ],
      "execution_count": 31,
      "outputs": [
        {
          "output_type": "stream",
          "text": [
            "/usr/local/lib/python3.6/dist-packages/keras/activations.py:235: UserWarning: Do not pass a layer instance (such as ThresholdedReLU) as the activation argument of another layer. Instead, advanced activation layers should be used just like any other layer in a model.\n",
            "  identifier=identifier.__class__.__name__))\n"
          ],
          "name": "stderr"
        },
        {
          "output_type": "stream",
          "text": [
            "Train on 60000 samples, validate on 10000 samples\n",
            "Epoch 1/10\n",
            "60000/60000 [==============================] - 3s 44us/step - loss: 2.0977 - acc: 0.2059 - val_loss: 0.4568 - val_acc: 0.8796\n",
            "Epoch 2/10\n",
            "60000/60000 [==============================] - 2s 31us/step - loss: 0.2730 - acc: 0.9182 - val_loss: 0.1774 - val_acc: 0.9462\n",
            "Epoch 3/10\n",
            "60000/60000 [==============================] - 2s 32us/step - loss: 0.1393 - acc: 0.9583 - val_loss: 0.1183 - val_acc: 0.9631\n",
            "Epoch 4/10\n",
            "60000/60000 [==============================] - 2s 29us/step - loss: 0.0963 - acc: 0.9707 - val_loss: 0.0948 - val_acc: 0.9710\n",
            "Epoch 5/10\n",
            "60000/60000 [==============================] - 2s 32us/step - loss: 0.0732 - acc: 0.9780 - val_loss: 0.0843 - val_acc: 0.9756\n",
            "Epoch 6/10\n",
            "60000/60000 [==============================] - 2s 32us/step - loss: 0.0579 - acc: 0.9821 - val_loss: 0.0838 - val_acc: 0.9762\n",
            "Epoch 7/10\n",
            "60000/60000 [==============================] - 2s 30us/step - loss: 0.0477 - acc: 0.9852 - val_loss: 0.0818 - val_acc: 0.9780\n",
            "Epoch 8/10\n",
            "60000/60000 [==============================] - 2s 31us/step - loss: 0.0399 - acc: 0.9872 - val_loss: 0.0835 - val_acc: 0.9783\n",
            "Epoch 9/10\n",
            "60000/60000 [==============================] - 2s 33us/step - loss: 0.0337 - acc: 0.9886 - val_loss: 0.0843 - val_acc: 0.9777\n",
            "Epoch 10/10\n",
            "60000/60000 [==============================] - 2s 30us/step - loss: 0.0275 - acc: 0.9909 - val_loss: 0.0885 - val_acc: 0.9777\n",
            "Test loss: 0.08852040302037457\n",
            "Test accuracy: 0.9777\n"
          ],
          "name": "stdout"
        }
      ]
    },
    {
      "cell_type": "markdown",
      "metadata": {
        "id": "ZHf3ajyEOy7R",
        "colab_type": "text"
      },
      "source": [
        "#Softmax\n",
        "\n",
        "keras.layers.Softmax(axis=-1)\n",
        "\n",
        "Softmax activation function.\n",
        "\n",
        "##Input shape\n",
        "\n",
        "Arbitrary. Use the keyword argument input_shape (tuple of integers, does not include the samples axis) when using this layer as the first layer in a model.\n",
        "\n",
        "##Output shape\n",
        "\n",
        "Same shape as the input.\n",
        "\n",
        "##Arguments\n",
        "\n",
        "1. axis: Integer, axis along which the softmax normalization is applied."
      ]
    },
    {
      "cell_type": "code",
      "metadata": {
        "id": "mSzMbFfGO600",
        "colab_type": "code",
        "colab": {
          "base_uri": "https://localhost:8080/",
          "height": 457
        },
        "outputId": "e16eb6ca-7fab-4559-8ff1-a8218522786b"
      },
      "source": [
        "# Build neural network\n",
        "model = models.Sequential()\n",
        "model.add(Dense(512, activation=keras.layers.Softmax(axis=-1), input_shape=(NUM_ROWS * NUM_COLS,)))\n",
        "model.add(Dense(256, activation=keras.layers.Softmax(axis=-1)))\n",
        "model.add(Dense(10, activation='softmax'))\n",
        "\n",
        "# Compile model\n",
        "model.compile(optimizer='rmsprop',\n",
        "              loss='categorical_crossentropy',\n",
        "              metrics=['accuracy'])\n",
        "\n",
        "# Train model\n",
        "model.fit(X_train, y_train,\n",
        "          batch_size=BATCH_SIZE,\n",
        "          epochs=EPOCHS,\n",
        "          verbose=1,\n",
        "          validation_data=(X_test, y_test))\n",
        "\n",
        "score = model.evaluate(X_test, y_test, verbose=0)\n",
        "print('Test loss:', score[0])\n",
        "print('Test accuracy:', score[1])\n",
        "activations['Softmax'] = score[1]"
      ],
      "execution_count": 32,
      "outputs": [
        {
          "output_type": "stream",
          "text": [
            "/usr/local/lib/python3.6/dist-packages/keras/activations.py:235: UserWarning: Do not pass a layer instance (such as Softmax) as the activation argument of another layer. Instead, advanced activation layers should be used just like any other layer in a model.\n",
            "  identifier=identifier.__class__.__name__))\n"
          ],
          "name": "stderr"
        },
        {
          "output_type": "stream",
          "text": [
            "Train on 60000 samples, validate on 10000 samples\n",
            "Epoch 1/10\n",
            "60000/60000 [==============================] - 3s 44us/step - loss: 2.2696 - acc: 0.1896 - val_loss: 2.1972 - val_acc: 0.5439\n",
            "Epoch 2/10\n",
            "60000/60000 [==============================] - 2s 32us/step - loss: 2.0437 - acc: 0.7202 - val_loss: 1.8548 - val_acc: 0.7511\n",
            "Epoch 3/10\n",
            "60000/60000 [==============================] - 2s 33us/step - loss: 1.6432 - acc: 0.7527 - val_loss: 1.4281 - val_acc: 0.7519\n",
            "Epoch 4/10\n",
            "60000/60000 [==============================] - 2s 33us/step - loss: 1.2374 - acc: 0.7551 - val_loss: 1.0570 - val_acc: 0.7553\n",
            "Epoch 5/10\n",
            "60000/60000 [==============================] - 2s 29us/step - loss: 0.9187 - acc: 0.7582 - val_loss: 0.8001 - val_acc: 0.7581\n",
            "Epoch 6/10\n",
            "60000/60000 [==============================] - 2s 30us/step - loss: 0.7188 - acc: 0.7606 - val_loss: 0.6545 - val_acc: 0.7621\n",
            "Epoch 7/10\n",
            "60000/60000 [==============================] - 2s 32us/step - loss: 0.6170 - acc: 0.7637 - val_loss: 0.5910 - val_acc: 0.7634\n",
            "Epoch 8/10\n",
            "60000/60000 [==============================] - 2s 28us/step - loss: 0.5698 - acc: 0.7670 - val_loss: 0.5602 - val_acc: 0.7682\n",
            "Epoch 9/10\n",
            "60000/60000 [==============================] - 2s 31us/step - loss: 0.5473 - acc: 0.7699 - val_loss: 0.5505 - val_acc: 0.7707\n",
            "Epoch 10/10\n",
            "60000/60000 [==============================] - 2s 29us/step - loss: 0.5339 - acc: 0.7736 - val_loss: 0.5391 - val_acc: 0.7728\n",
            "Test loss: 0.5391325532913208\n",
            "Test accuracy: 0.7728\n"
          ],
          "name": "stdout"
        }
      ]
    },
    {
      "cell_type": "markdown",
      "metadata": {
        "id": "oCbXH5M2PCwO",
        "colab_type": "text"
      },
      "source": [
        "#ReLU\n",
        "\n",
        "keras.layers.ReLU(max_value=None, negative_slope=0.0, threshold=0.0)\n",
        "\n",
        "Rectified Linear Unit activation function.\n",
        "\n",
        "With default values, it returns element-wise max(x, 0).\n",
        "\n",
        "Otherwise, it follows: f(x) = max_value for x >= max_value, f(x) = x for threshold <= x < max_value, f(x) = negative_slope * (x - threshold) otherwise.\n",
        "\n",
        "##Input shape\n",
        "\n",
        "Arbitrary. Use the keyword argument input_shape (tuple of integers, does not include the samples axis) when using this layer as the first layer in a model.\n",
        "\n",
        "##Output shape\n",
        "\n",
        "Same shape as the input.\n",
        "\n",
        "##Arguments\n",
        "\n",
        "1. max_value: float >= 0. Maximum activation value.\n",
        "2. negative_slope: float >= 0. Negative slope coefficient.\n",
        "3. threshold: float. Threshold value for thresholded activation."
      ]
    },
    {
      "cell_type": "code",
      "metadata": {
        "id": "KMee8FeqPK2N",
        "colab_type": "code",
        "colab": {
          "base_uri": "https://localhost:8080/",
          "height": 457
        },
        "outputId": "3d01c599-536e-47ff-f51f-75308f33f809"
      },
      "source": [
        "# Build neural network\n",
        "model = models.Sequential()\n",
        "model.add(Dense(512, activation=keras.layers.ReLU(max_value=None, negative_slope=0.0, threshold=0.0)\n",
        ", input_shape=(NUM_ROWS * NUM_COLS,)))\n",
        "model.add(Dense(256, activation=keras.layers.ReLU(max_value=None, negative_slope=0.0, threshold=0.0)\n",
        "))\n",
        "model.add(Dense(10, activation='softmax'))\n",
        "\n",
        "# Compile model\n",
        "model.compile(optimizer='rmsprop',\n",
        "              loss='categorical_crossentropy',\n",
        "              metrics=['accuracy'])\n",
        "\n",
        "# Train model\n",
        "model.fit(X_train, y_train,\n",
        "          batch_size=BATCH_SIZE,\n",
        "          epochs=EPOCHS,\n",
        "          verbose=1,\n",
        "          validation_data=(X_test, y_test))\n",
        "\n",
        "score = model.evaluate(X_test, y_test, verbose=0)\n",
        "print('Test loss:', score[0])\n",
        "print('Test accuracy:', score[1])\n",
        "activations['ReLU'] = score[1]"
      ],
      "execution_count": 33,
      "outputs": [
        {
          "output_type": "stream",
          "text": [
            "/usr/local/lib/python3.6/dist-packages/keras/activations.py:235: UserWarning: Do not pass a layer instance (such as ReLU) as the activation argument of another layer. Instead, advanced activation layers should be used just like any other layer in a model.\n",
            "  identifier=identifier.__class__.__name__))\n"
          ],
          "name": "stderr"
        },
        {
          "output_type": "stream",
          "text": [
            "Train on 60000 samples, validate on 10000 samples\n",
            "Epoch 1/10\n",
            "60000/60000 [==============================] - 3s 44us/step - loss: 0.2238 - acc: 0.9319 - val_loss: 0.1400 - val_acc: 0.9548\n",
            "Epoch 2/10\n",
            "60000/60000 [==============================] - 2s 31us/step - loss: 0.0827 - acc: 0.9750 - val_loss: 0.0917 - val_acc: 0.9732\n",
            "Epoch 3/10\n",
            "60000/60000 [==============================] - 2s 31us/step - loss: 0.0540 - acc: 0.9832 - val_loss: 0.0753 - val_acc: 0.9760\n",
            "Epoch 4/10\n",
            "60000/60000 [==============================] - 2s 32us/step - loss: 0.0389 - acc: 0.9879 - val_loss: 0.0745 - val_acc: 0.9775\n",
            "Epoch 5/10\n",
            "60000/60000 [==============================] - 2s 31us/step - loss: 0.0292 - acc: 0.9911 - val_loss: 0.0700 - val_acc: 0.9820\n",
            "Epoch 6/10\n",
            "60000/60000 [==============================] - 2s 30us/step - loss: 0.0226 - acc: 0.9930 - val_loss: 0.0807 - val_acc: 0.9813\n",
            "Epoch 7/10\n",
            "60000/60000 [==============================] - 2s 32us/step - loss: 0.0180 - acc: 0.9940 - val_loss: 0.1216 - val_acc: 0.9724\n",
            "Epoch 8/10\n",
            "60000/60000 [==============================] - 2s 29us/step - loss: 0.0133 - acc: 0.9955 - val_loss: 0.0804 - val_acc: 0.9824\n",
            "Epoch 9/10\n",
            "60000/60000 [==============================] - 2s 29us/step - loss: 0.0117 - acc: 0.9963 - val_loss: 0.0953 - val_acc: 0.9814\n",
            "Epoch 10/10\n",
            "60000/60000 [==============================] - 2s 31us/step - loss: 0.0106 - acc: 0.9965 - val_loss: 0.0897 - val_acc: 0.9842\n",
            "Test loss: 0.08972786130982222\n",
            "Test accuracy: 0.9842\n"
          ],
          "name": "stdout"
        }
      ]
    },
    {
      "cell_type": "code",
      "metadata": {
        "id": "VSS5mNH4wgUD",
        "colab_type": "code",
        "colab": {
          "base_uri": "https://localhost:8080/",
          "height": 34
        },
        "outputId": "ba9b017f-0b02-43b6-8a06-5cb9c8d792c8"
      },
      "source": [
        "print(max(activations, key=activations.get), max(activations.values()))"
      ],
      "execution_count": 40,
      "outputs": [
        {
          "output_type": "stream",
          "text": [
            "ReLU 0.9842\n"
          ],
          "name": "stdout"
        }
      ]
    },
    {
      "cell_type": "markdown",
      "metadata": {
        "id": "scbVYEOyyhDZ",
        "colab_type": "text"
      },
      "source": [
        "ReLU has highest test accuracy of 98.42%"
      ]
    },
    {
      "cell_type": "markdown",
      "metadata": {
        "id": "Iw_XEgUlPU04",
        "colab_type": "text"
      },
      "source": [
        "#Thank you for completing this notebook"
      ]
    }
  ]
}